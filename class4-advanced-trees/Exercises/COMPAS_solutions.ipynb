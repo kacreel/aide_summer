{
 "cells": [
  {
   "cell_type": "markdown",
   "metadata": {},
   "source": [
    "# COMPAS Recidivism Prediction Analysis\n",
    "## A Beginner's Guide to Building and Evaluating Fair ML Models\n",
    "\n",
    "### Introduction\n",
    "This notebook analyzes the COMPAS (Correctional Offender Management Profiling for Alternative Sanctions) dataset to:\n",
    "1. Build a recidivism prediction model\n",
    "2. Evaluate fairness across different demographic groups\n",
    "3. Compare different ML algorithms\n",
    "\n",
    "**What is recidivism?** Whether someone will commit another crime within 2 years\n",
    "\n",
    "**Our goal:** Build a fair model that predicts recidivism accurately"
   ]
  },
  {
   "cell_type": "markdown",
   "metadata": {},
   "source": [
    "## Part 1: Building the Model\n",
    "\n",
    "### Step 1: Import Required Libraries"
   ]
  },
  {
   "cell_type": "code",
   "execution_count": 1,
   "metadata": {},
   "outputs": [
    {
     "name": "stdout",
     "output_type": "stream",
     "text": [
      "Libraries imported successfully!\n"
     ]
    }
   ],
   "source": [
    "# Import all necessary packages\n",
    "import pandas as pd\n",
    "import numpy as np\n",
    "from sklearn import tree\n",
    "from sklearn.tree import export_text\n",
    "from sklearn.model_selection import train_test_split\n",
    "from sklearn.metrics import accuracy_score, confusion_matrix\n",
    "import matplotlib.pyplot as plt\n",
    "import seaborn as sns\n",
    "\n",
    "print(\"Libraries imported successfully!\")"
   ]
  },
  {
   "cell_type": "markdown",
   "metadata": {},
   "source": [
    "### Step 2: Load and Understand the Data"
   ]
  },
  {
   "cell_type": "code",
   "execution_count": 2,
   "metadata": {},
   "outputs": [
    {
     "name": "stdout",
     "output_type": "stream",
     "text": [
      "Dataset shape: (4743, 54)\n",
      "Number of records: 4743\n",
      "Number of features: 54\n",
      "\n",
      "First 5 rows of data:\n"
     ]
    },
    {
     "data": {
      "text/html": [
       "<div>\n",
       "<style scoped>\n",
       "    .dataframe tbody tr th:only-of-type {\n",
       "        vertical-align: middle;\n",
       "    }\n",
       "\n",
       "    .dataframe tbody tr th {\n",
       "        vertical-align: top;\n",
       "    }\n",
       "\n",
       "    .dataframe thead th {\n",
       "        text-align: right;\n",
       "    }\n",
       "</style>\n",
       "<table border=\"1\" class=\"dataframe\">\n",
       "  <thead>\n",
       "    <tr style=\"text-align: right;\">\n",
       "      <th></th>\n",
       "      <th>id</th>\n",
       "      <th>name</th>\n",
       "      <th>first</th>\n",
       "      <th>last</th>\n",
       "      <th>compas_screening_date</th>\n",
       "      <th>sex</th>\n",
       "      <th>dob</th>\n",
       "      <th>age</th>\n",
       "      <th>age_cat</th>\n",
       "      <th>race</th>\n",
       "      <th>...</th>\n",
       "      <th>v_score_text</th>\n",
       "      <th>v_screening_date</th>\n",
       "      <th>in_custody</th>\n",
       "      <th>out_custody</th>\n",
       "      <th>priors_count.1</th>\n",
       "      <th>start</th>\n",
       "      <th>end</th>\n",
       "      <th>event</th>\n",
       "      <th>two_year_recid</th>\n",
       "      <th>two_year_recid.1</th>\n",
       "    </tr>\n",
       "  </thead>\n",
       "  <tbody>\n",
       "    <tr>\n",
       "      <th>0</th>\n",
       "      <td>1</td>\n",
       "      <td>miguel hernandez</td>\n",
       "      <td>miguel</td>\n",
       "      <td>hernandez</td>\n",
       "      <td>2013-08-14</td>\n",
       "      <td>Male</td>\n",
       "      <td>1947-04-18</td>\n",
       "      <td>69</td>\n",
       "      <td>Greater than 45</td>\n",
       "      <td>Other</td>\n",
       "      <td>...</td>\n",
       "      <td>Low</td>\n",
       "      <td>2013-08-14</td>\n",
       "      <td>2014-07-07</td>\n",
       "      <td>2014-07-14</td>\n",
       "      <td>0</td>\n",
       "      <td>0</td>\n",
       "      <td>327</td>\n",
       "      <td>0</td>\n",
       "      <td>0</td>\n",
       "      <td>0</td>\n",
       "    </tr>\n",
       "    <tr>\n",
       "      <th>1</th>\n",
       "      <td>3</td>\n",
       "      <td>kevon dixon</td>\n",
       "      <td>kevon</td>\n",
       "      <td>dixon</td>\n",
       "      <td>2013-01-27</td>\n",
       "      <td>Male</td>\n",
       "      <td>1982-01-22</td>\n",
       "      <td>34</td>\n",
       "      <td>25 - 45</td>\n",
       "      <td>African-American</td>\n",
       "      <td>...</td>\n",
       "      <td>Low</td>\n",
       "      <td>2013-01-27</td>\n",
       "      <td>2013-01-26</td>\n",
       "      <td>2013-02-05</td>\n",
       "      <td>0</td>\n",
       "      <td>9</td>\n",
       "      <td>159</td>\n",
       "      <td>1</td>\n",
       "      <td>1</td>\n",
       "      <td>1</td>\n",
       "    </tr>\n",
       "    <tr>\n",
       "      <th>2</th>\n",
       "      <td>5</td>\n",
       "      <td>marcu brown</td>\n",
       "      <td>marcu</td>\n",
       "      <td>brown</td>\n",
       "      <td>2013-01-13</td>\n",
       "      <td>Male</td>\n",
       "      <td>1993-01-21</td>\n",
       "      <td>23</td>\n",
       "      <td>Less than 25</td>\n",
       "      <td>African-American</td>\n",
       "      <td>...</td>\n",
       "      <td>Medium</td>\n",
       "      <td>2013-01-13</td>\n",
       "      <td>NaN</td>\n",
       "      <td>NaN</td>\n",
       "      <td>1</td>\n",
       "      <td>0</td>\n",
       "      <td>1174</td>\n",
       "      <td>0</td>\n",
       "      <td>0</td>\n",
       "      <td>0</td>\n",
       "    </tr>\n",
       "    <tr>\n",
       "      <th>3</th>\n",
       "      <td>6</td>\n",
       "      <td>bouthy pierrelouis</td>\n",
       "      <td>bouthy</td>\n",
       "      <td>pierrelouis</td>\n",
       "      <td>2013-03-26</td>\n",
       "      <td>Male</td>\n",
       "      <td>1973-01-22</td>\n",
       "      <td>43</td>\n",
       "      <td>25 - 45</td>\n",
       "      <td>Other</td>\n",
       "      <td>...</td>\n",
       "      <td>Low</td>\n",
       "      <td>2013-03-26</td>\n",
       "      <td>NaN</td>\n",
       "      <td>NaN</td>\n",
       "      <td>2</td>\n",
       "      <td>0</td>\n",
       "      <td>1102</td>\n",
       "      <td>0</td>\n",
       "      <td>0</td>\n",
       "      <td>0</td>\n",
       "    </tr>\n",
       "    <tr>\n",
       "      <th>4</th>\n",
       "      <td>7</td>\n",
       "      <td>marsha miles</td>\n",
       "      <td>marsha</td>\n",
       "      <td>miles</td>\n",
       "      <td>2013-11-30</td>\n",
       "      <td>Male</td>\n",
       "      <td>1971-08-22</td>\n",
       "      <td>44</td>\n",
       "      <td>25 - 45</td>\n",
       "      <td>Other</td>\n",
       "      <td>...</td>\n",
       "      <td>Low</td>\n",
       "      <td>2013-11-30</td>\n",
       "      <td>2013-11-30</td>\n",
       "      <td>2013-12-01</td>\n",
       "      <td>0</td>\n",
       "      <td>1</td>\n",
       "      <td>853</td>\n",
       "      <td>0</td>\n",
       "      <td>0</td>\n",
       "      <td>0</td>\n",
       "    </tr>\n",
       "  </tbody>\n",
       "</table>\n",
       "<p>5 rows × 54 columns</p>\n",
       "</div>"
      ],
      "text/plain": [
       "   id                name   first         last compas_screening_date   sex  \\\n",
       "0   1    miguel hernandez  miguel    hernandez            2013-08-14  Male   \n",
       "1   3         kevon dixon   kevon        dixon            2013-01-27  Male   \n",
       "2   5         marcu brown   marcu        brown            2013-01-13  Male   \n",
       "3   6  bouthy pierrelouis  bouthy  pierrelouis            2013-03-26  Male   \n",
       "4   7        marsha miles  marsha        miles            2013-11-30  Male   \n",
       "\n",
       "          dob  age          age_cat              race  ...  v_score_text  \\\n",
       "0  1947-04-18   69  Greater than 45             Other  ...           Low   \n",
       "1  1982-01-22   34          25 - 45  African-American  ...           Low   \n",
       "2  1993-01-21   23     Less than 25  African-American  ...        Medium   \n",
       "3  1973-01-22   43          25 - 45             Other  ...           Low   \n",
       "4  1971-08-22   44          25 - 45             Other  ...           Low   \n",
       "\n",
       "   v_screening_date  in_custody  out_custody  priors_count.1  start   end  \\\n",
       "0        2013-08-14  2014-07-07   2014-07-14               0      0   327   \n",
       "1        2013-01-27  2013-01-26   2013-02-05               0      9   159   \n",
       "2        2013-01-13         NaN          NaN               1      0  1174   \n",
       "3        2013-03-26         NaN          NaN               2      0  1102   \n",
       "4        2013-11-30  2013-11-30   2013-12-01               0      1   853   \n",
       "\n",
       "  event two_year_recid two_year_recid.1  \n",
       "0     0              0                0  \n",
       "1     1              1                1  \n",
       "2     0              0                0  \n",
       "3     0              0                0  \n",
       "4     0              0                0  \n",
       "\n",
       "[5 rows x 54 columns]"
      ]
     },
     "execution_count": 2,
     "metadata": {},
     "output_type": "execute_result"
    }
   ],
   "source": [
    "# Load the COMPAS dataset directly from GitHub\n",
    "url = 'https://raw.githubusercontent.com/propublica/compas-analysis/refs/heads/master/compas-scores-two-years-violent.csv'\n",
    "df = pd.read_csv(url)\n",
    "#Load the dataset locally if you have it\n",
    "# df = pd.read_csv('path_to_your_local_file.csv')\n",
    "print(f\"Dataset shape: {df.shape}\")\n",
    "print(f\"Number of records: {len(df)}\")\n",
    "print(f\"Number of features: {len(df.columns)}\")\n",
    "\n",
    "# View first few rows\n",
    "print(\"\\nFirst 5 rows of data:\")\n",
    "df.head()"
   ]
  },
  {
   "cell_type": "markdown",
   "metadata": {},
   "source": [
    "### Step 3: Clean the Data\n",
    "\n",
    "We need to remove unreliable or incomplete records:"
   ]
  },
  {
   "cell_type": "code",
   "execution_count": 3,
   "metadata": {},
   "outputs": [
    {
     "name": "stdout",
     "output_type": "stream",
     "text": [
      "Data cleaning steps:\n",
      "Starting with 4743 records\n",
      "After date filtering: 4020 records\n",
      "After removing missing recidivism: 4020 records\n",
      "After removing traffic offenses: 4020 records\n",
      "Final dataset: 4020 records\n"
     ]
    }
   ],
   "source": [
    "print(\"Data cleaning steps:\")\n",
    "print(f\"Starting with {len(df)} records\")\n",
    "\n",
    "# Step 1: Keep only cases where arrest and screening dates are within 30 days\n",
    "df = df[df['days_b_screening_arrest'] <= 30]\n",
    "df = df[df['days_b_screening_arrest'] >= -30]\n",
    "print(f\"After date filtering: {len(df)} records\")\n",
    "\n",
    "# Step 2: Remove cases where we couldn't find recidivism data\n",
    "df = df[df['is_recid'] != -1]\n",
    "print(f\"After removing missing recidivism: {len(df)} records\")\n",
    "\n",
    "# Step 3: Remove traffic offenses (they don't lead to jail time)\n",
    "df = df[df['c_charge_degree'] != \"O\"]\n",
    "print(f\"After removing traffic offenses: {len(df)} records\")\n",
    "\n",
    "# Step 4: Remove rows without risk scores\n",
    "df = df[df['score_text'] != \"N/A\"]\n",
    "print(f\"Final dataset: {len(df)} records\")"
   ]
  },
  {
   "cell_type": "markdown",
   "metadata": {},
   "source": [
    "### Step 4: Explore the Data\n",
    "\n",
    "Let's understand our key variables:"
   ]
  },
  {
   "cell_type": "code",
   "execution_count": 4,
   "metadata": {},
   "outputs": [
    {
     "name": "stdout",
     "output_type": "stream",
     "text": [
      "Key Variables in Our Analysis:\n",
      "----------------------------------------\n",
      "1. two_year_recid: Did they reoffend within 2 years? (0=No, 1=Yes)\n",
      "   - No recidivism: 3368 (83.8%)\n",
      "   - Recidivism: 652 (16.2%)\n",
      "\n",
      "2. Race distribution:\n",
      "race\n",
      "African-American    1918\n",
      "Caucasian           1459\n",
      "Hispanic             355\n",
      "Other                255\n",
      "Asian                 26\n",
      "Native American        7\n",
      "Name: count, dtype: int64\n",
      "\n",
      "3. Criminal history features we'll use:\n",
      "   - juv_fel_count: Juvenile felony count\n",
      "   - juv_misd_count: Juvenile misdemeanor count\n",
      "   - juv_other_count: Other juvenile offenses\n",
      "   - priors_count: Adult prior offenses\n"
     ]
    }
   ],
   "source": [
    "# Let's understand our key variables\n",
    "print(\"Key Variables in Our Analysis:\")\n",
    "print(\"-\" * 40)\n",
    "print(\"1. two_year_recid: Did they reoffend within 2 years? (0=No, 1=Yes)\")\n",
    "print(f\"   - No recidivism: {(df['two_year_recid']==0).sum()} ({(df['two_year_recid']==0).mean()*100:.1f}%)\")\n",
    "print(f\"   - Recidivism: {(df['two_year_recid']==1).sum()} ({(df['two_year_recid']==1).mean()*100:.1f}%)\")\n",
    "\n",
    "print(\"\\n2. Race distribution:\")\n",
    "print(df['race'].value_counts())\n",
    "\n",
    "print(\"\\n3. Criminal history features we'll use:\")\n",
    "print(\"   - juv_fel_count: Juvenile felony count\")\n",
    "print(\"   - juv_misd_count: Juvenile misdemeanor count\")\n",
    "print(\"   - juv_other_count: Other juvenile offenses\")\n",
    "print(\"   - priors_count: Adult prior offenses\")"
   ]
  },
  {
   "cell_type": "markdown",
   "metadata": {},
   "source": [
    "### Step 5: Prepare Features and Target"
   ]
  },
  {
   "cell_type": "code",
   "execution_count": 5,
   "metadata": {},
   "outputs": [
    {
     "name": "stdout",
     "output_type": "stream",
     "text": [
      "Features shape: (4020, 4)\n",
      "Target shape: (4020,)\n",
      "\n",
      "Feature Statistics:\n"
     ]
    },
    {
     "data": {
      "text/html": [
       "<div>\n",
       "<style scoped>\n",
       "    .dataframe tbody tr th:only-of-type {\n",
       "        vertical-align: middle;\n",
       "    }\n",
       "\n",
       "    .dataframe tbody tr th {\n",
       "        vertical-align: top;\n",
       "    }\n",
       "\n",
       "    .dataframe thead th {\n",
       "        text-align: right;\n",
       "    }\n",
       "</style>\n",
       "<table border=\"1\" class=\"dataframe\">\n",
       "  <thead>\n",
       "    <tr style=\"text-align: right;\">\n",
       "      <th></th>\n",
       "      <th>juv_fel_count</th>\n",
       "      <th>juv_misd_count</th>\n",
       "      <th>juv_other_count</th>\n",
       "      <th>priors_count</th>\n",
       "    </tr>\n",
       "  </thead>\n",
       "  <tbody>\n",
       "    <tr>\n",
       "      <th>count</th>\n",
       "      <td>4020.000000</td>\n",
       "      <td>4020.000000</td>\n",
       "      <td>4020.000000</td>\n",
       "      <td>4020.000000</td>\n",
       "    </tr>\n",
       "    <tr>\n",
       "      <th>mean</th>\n",
       "      <td>0.042786</td>\n",
       "      <td>0.067413</td>\n",
       "      <td>0.080597</td>\n",
       "      <td>2.445522</td>\n",
       "    </tr>\n",
       "    <tr>\n",
       "      <th>std</th>\n",
       "      <td>0.436754</td>\n",
       "      <td>0.404851</td>\n",
       "      <td>0.410695</td>\n",
       "      <td>3.952853</td>\n",
       "    </tr>\n",
       "    <tr>\n",
       "      <th>min</th>\n",
       "      <td>0.000000</td>\n",
       "      <td>0.000000</td>\n",
       "      <td>0.000000</td>\n",
       "      <td>0.000000</td>\n",
       "    </tr>\n",
       "    <tr>\n",
       "      <th>25%</th>\n",
       "      <td>0.000000</td>\n",
       "      <td>0.000000</td>\n",
       "      <td>0.000000</td>\n",
       "      <td>0.000000</td>\n",
       "    </tr>\n",
       "    <tr>\n",
       "      <th>50%</th>\n",
       "      <td>0.000000</td>\n",
       "      <td>0.000000</td>\n",
       "      <td>0.000000</td>\n",
       "      <td>1.000000</td>\n",
       "    </tr>\n",
       "    <tr>\n",
       "      <th>75%</th>\n",
       "      <td>0.000000</td>\n",
       "      <td>0.000000</td>\n",
       "      <td>0.000000</td>\n",
       "      <td>3.000000</td>\n",
       "    </tr>\n",
       "    <tr>\n",
       "      <th>max</th>\n",
       "      <td>20.000000</td>\n",
       "      <td>8.000000</td>\n",
       "      <td>7.000000</td>\n",
       "      <td>38.000000</td>\n",
       "    </tr>\n",
       "  </tbody>\n",
       "</table>\n",
       "</div>"
      ],
      "text/plain": [
       "       juv_fel_count  juv_misd_count  juv_other_count  priors_count\n",
       "count    4020.000000     4020.000000      4020.000000   4020.000000\n",
       "mean        0.042786        0.067413         0.080597      2.445522\n",
       "std         0.436754        0.404851         0.410695      3.952853\n",
       "min         0.000000        0.000000         0.000000      0.000000\n",
       "25%         0.000000        0.000000         0.000000      0.000000\n",
       "50%         0.000000        0.000000         0.000000      1.000000\n",
       "75%         0.000000        0.000000         0.000000      3.000000\n",
       "max        20.000000        8.000000         7.000000     38.000000"
      ]
     },
     "execution_count": 5,
     "metadata": {},
     "output_type": "execute_result"
    }
   ],
   "source": [
    "# Select features (X) and target (y)\n",
    "feature_columns = [\"juv_fel_count\", \"juv_misd_count\", \"juv_other_count\", \"priors_count\"]\n",
    "X = df[feature_columns]\n",
    "y = df['two_year_recid']\n",
    "\n",
    "print(\"Features shape:\", X.shape)\n",
    "print(\"Target shape:\", y.shape)\n",
    "\n",
    "# Quick look at feature statistics\n",
    "print(\"\\nFeature Statistics:\")\n",
    "X.describe()"
   ]
  },
  {
   "cell_type": "markdown",
   "metadata": {},
   "source": [
    "### Step 6: Split Data for Training and Testing"
   ]
  },
  {
   "cell_type": "code",
   "execution_count": 6,
   "metadata": {},
   "outputs": [
    {
     "name": "stdout",
     "output_type": "stream",
     "text": [
      "Training set size: 2814 samples\n",
      "Test set size: 1206 samples\n",
      "Recidivism rate in training: 16.6%\n",
      "Recidivism rate in test: 15.3%\n"
     ]
    }
   ],
   "source": [
    "# Split data: 70% for training, 30% for testing\n",
    "X_trainset, X_testset, y_trainset, y_testset = train_test_split(\n",
    "    X, y, test_size=0.3, random_state=3\n",
    ")\n",
    "\n",
    "print(f\"Training set size: {len(X_trainset)} samples\")\n",
    "print(f\"Test set size: {len(X_testset)} samples\")\n",
    "print(f\"Recidivism rate in training: {y_trainset.mean()*100:.1f}%\")\n",
    "print(f\"Recidivism rate in test: {y_testset.mean()*100:.1f}%\")"
   ]
  },
  {
   "cell_type": "markdown",
   "metadata": {},
   "source": [
    "### Step 7: Train a Decision Tree Model"
   ]
  },
  {
   "cell_type": "code",
   "execution_count": 7,
   "metadata": {},
   "outputs": [
    {
     "name": "stdout",
     "output_type": "stream",
     "text": [
      "Model trained successfully!\n"
     ]
    }
   ],
   "source": [
    "# Create and train the decision tree\n",
    "# max_depth=3 keeps the tree simple and interpretable\n",
    "clf = tree.DecisionTreeClassifier(max_depth=3, random_state=42)\n",
    "clf = clf.fit(X_trainset, y_trainset)\n",
    "\n",
    "print(\"Model trained successfully!\")"
   ]
  },
  {
   "cell_type": "markdown",
   "metadata": {},
   "source": [
    "### Step 8: Make Predictions and Evaluate"
   ]
  },
  {
   "cell_type": "code",
   "execution_count": 8,
   "metadata": {},
   "outputs": [
    {
     "name": "stdout",
     "output_type": "stream",
     "text": [
      "Model Accuracy: 0.856 (85.6%)\n",
      "\n",
      "Confusion Matrix:\n",
      "                 Predicted\n",
      "                 No   Yes\n",
      "Actual No     [1012   10]\n",
      "Actual Yes    [ 164   20]\n",
      "\n",
      "Decision Tree Structure:\n",
      "|--- priors_count <= 3.50\n",
      "|   |--- priors_count <= 1.50\n",
      "|   |   |--- priors_count <= 0.50\n",
      "|   |   |   |--- class: 0\n",
      "|   |   |--- priors_count >  0.50\n",
      "|   |   |   |--- class: 0\n",
      "|   |--- priors_count >  1.50\n",
      "|   |   |--- juv_misd_count <= 1.50\n",
      "|   |   |   |--- class: 0\n",
      "|   |   |--- juv_misd_count >  1.50\n",
      "|   |   |   |--- class: 1\n",
      "|--- priors_count >  3.50\n",
      "|   |--- juv_other_count <= 0.50\n",
      "|   |   |--- priors_count <= 22.50\n",
      "|   |   |   |--- class: 0\n",
      "|   |   |--- priors_count >  22.50\n",
      "|   |   |   |--- class: 1\n",
      "|   |--- juv_other_count >  0.50\n",
      "|   |   |--- juv_other_count <= 2.50\n",
      "|   |   |   |--- class: 1\n",
      "|   |   |--- juv_other_count >  2.50\n",
      "|   |   |   |--- class: 1\n",
      "\n"
     ]
    }
   ],
   "source": [
    "# Make predictions on test set\n",
    "y_pred = clf.predict(X_testset)\n",
    "\n",
    "# Calculate accuracy\n",
    "accuracy = accuracy_score(y_testset, y_pred)\n",
    "print(f\"Model Accuracy: {accuracy:.3f} ({accuracy*100:.1f}%)\")\n",
    "\n",
    "# Show confusion matrix\n",
    "cm = confusion_matrix(y_testset, y_pred)\n",
    "print(\"\\nConfusion Matrix:\")\n",
    "print(\"                 Predicted\")\n",
    "print(\"                 No   Yes\")\n",
    "print(f\"Actual No     [{cm[0,0]:4d} {cm[0,1]:4d}]\")\n",
    "print(f\"Actual Yes    [{cm[1,0]:4d} {cm[1,1]:4d}]\")\n",
    "\n",
    "# Visualize the decision tree\n",
    "print(\"\\nDecision Tree Structure:\")\n",
    "tree_rules = export_text(clf, feature_names=list(X.columns))\n",
    "print(tree_rules)"
   ]
  },
  {
   "cell_type": "markdown",
   "metadata": {},
   "source": [
    "### Step 9: Compare with COMPAS"
   ]
  },
  {
   "cell_type": "code",
   "execution_count": 9,
   "metadata": {},
   "outputs": [
    {
     "name": "stdout",
     "output_type": "stream",
     "text": [
      "Agreement between our model and COMPAS: 0.752 (75.2%)\n",
      "\n",
      "Our model accuracy: 0.856\n",
      "COMPAS accuracy: 0.757\n"
     ]
    }
   ],
   "source": [
    "# Convert COMPAS scores to binary (high risk = score > 5)\n",
    "df['decile_score_binary'] = (df['decile_score'] > 5).astype(int)\n",
    "\n",
    "# Get COMPAS predictions for our test set\n",
    "y_compas = df[\"decile_score_binary\"][y_testset.index]\n",
    "\n",
    "# Compare predictions\n",
    "agreement = accuracy_score(y_compas, y_pred)\n",
    "print(f\"Agreement between our model and COMPAS: {agreement:.3f} ({agreement*100:.1f}%)\")\n",
    "\n",
    "# Compare accuracies\n",
    "our_accuracy = accuracy_score(y_testset, y_pred)\n",
    "compas_accuracy = accuracy_score(y_testset, y_compas)\n",
    "print(f\"\\nOur model accuracy: {our_accuracy:.3f}\")\n",
    "print(f\"COMPAS accuracy: {compas_accuracy:.3f}\")"
   ]
  },
  {
   "cell_type": "markdown",
   "metadata": {},
   "source": [
    "## Part 2: Fairness Analysis\n",
    "\n",
    "### Understanding Fairness Metrics\n",
    "\n",
    "Before we start, let's understand what these metrics mean:\n",
    "\n",
    "1. **Demographic Parity**: All groups should have similar positive prediction rates\n",
    "2. **False Positive Rate**: Rate of incorrectly predicting recidivism for non-recidivists\n",
    "3. **Equalized Odds**: Both true positive and false positive rates should be similar across groups"
   ]
  },
  {
   "cell_type": "code",
   "execution_count": 12,
   "metadata": {},
   "outputs": [
    {
     "name": "stdout",
     "output_type": "stream",
     "text": [
      "Collecting fairlearn\n",
      "  Downloading fairlearn-0.12.0-py3-none-any.whl.metadata (7.0 kB)\n",
      "  Downloading fairlearn-0.12.0-py3-none-any.whl.metadata (7.0 kB)\n",
      "Requirement already satisfied: numpy>=1.24.4 in /opt/anaconda3/lib/python3.11/site-packages (from fairlearn) (1.26.4)\n",
      "Requirement already satisfied: pandas>=2.0.3 in /opt/anaconda3/lib/python3.11/site-packages (from fairlearn) (2.1.4)\n",
      "Requirement already satisfied: scikit-learn>=1.2.1 in /opt/anaconda3/lib/python3.11/site-packages (from fairlearn) (1.2.2)\n",
      "Requirement already satisfied: scipy>=1.9.3 in /opt/anaconda3/lib/python3.11/site-packages (from fairlearn) (1.11.4)\n",
      "Requirement already satisfied: python-dateutil>=2.8.2 in /opt/anaconda3/lib/python3.11/site-packages (from pandas>=2.0.3->fairlearn) (2.8.2)\n",
      "Requirement already satisfied: pytz>=2020.1 in /opt/anaconda3/lib/python3.11/site-packages (from pandas>=2.0.3->fairlearn) (2023.3.post1)\n",
      "Requirement already satisfied: tzdata>=2022.1 in /opt/anaconda3/lib/python3.11/site-packages (from pandas>=2.0.3->fairlearn) (2023.3)\n",
      "Requirement already satisfied: joblib>=1.1.1 in /opt/anaconda3/lib/python3.11/site-packages (from scikit-learn>=1.2.1->fairlearn) (1.2.0)\n",
      "Requirement already satisfied: numpy>=1.24.4 in /opt/anaconda3/lib/python3.11/site-packages (from fairlearn) (1.26.4)\n",
      "Requirement already satisfied: pandas>=2.0.3 in /opt/anaconda3/lib/python3.11/site-packages (from fairlearn) (2.1.4)\n",
      "Requirement already satisfied: scikit-learn>=1.2.1 in /opt/anaconda3/lib/python3.11/site-packages (from fairlearn) (1.2.2)\n",
      "Requirement already satisfied: scipy>=1.9.3 in /opt/anaconda3/lib/python3.11/site-packages (from fairlearn) (1.11.4)\n",
      "Requirement already satisfied: python-dateutil>=2.8.2 in /opt/anaconda3/lib/python3.11/site-packages (from pandas>=2.0.3->fairlearn) (2.8.2)\n",
      "Requirement already satisfied: pytz>=2020.1 in /opt/anaconda3/lib/python3.11/site-packages (from pandas>=2.0.3->fairlearn) (2023.3.post1)\n",
      "Requirement already satisfied: tzdata>=2022.1 in /opt/anaconda3/lib/python3.11/site-packages (from pandas>=2.0.3->fairlearn) (2023.3)\n",
      "Requirement already satisfied: joblib>=1.1.1 in /opt/anaconda3/lib/python3.11/site-packages (from scikit-learn>=1.2.1->fairlearn) (1.2.0)\n",
      "Requirement already satisfied: threadpoolctl>=2.0.0 in /opt/anaconda3/lib/python3.11/site-packages (from scikit-learn>=1.2.1->fairlearn) (2.2.0)\n",
      "Requirement already satisfied: six>=1.5 in /opt/anaconda3/lib/python3.11/site-packages (from python-dateutil>=2.8.2->pandas>=2.0.3->fairlearn) (1.16.0)\n",
      "Downloading fairlearn-0.12.0-py3-none-any.whl (240 kB)\n",
      "\u001b[?25l   \u001b[90m━━━━━━━━━━━━━━━━━━━━━━━━━━━━━━━━━━━━━━━━\u001b[0m \u001b[32m0.0/240.0 kB\u001b[0m \u001b[31m?\u001b[0m eta \u001b[36m-:--:--\u001b[0mRequirement already satisfied: threadpoolctl>=2.0.0 in /opt/anaconda3/lib/python3.11/site-packages (from scikit-learn>=1.2.1->fairlearn) (2.2.0)\n",
      "Requirement already satisfied: six>=1.5 in /opt/anaconda3/lib/python3.11/site-packages (from python-dateutil>=2.8.2->pandas>=2.0.3->fairlearn) (1.16.0)\n",
      "Downloading fairlearn-0.12.0-py3-none-any.whl (240 kB)\n",
      "\u001b[2K   \u001b[90m━━━━━━━━━━━━━━━━━━━━━━━━━━━━━━━━━━━━━━━━\u001b[0m \u001b[32m240.0/240.0 kB\u001b[0m \u001b[31m1.1 MB/s\u001b[0m eta \u001b[36m0:00:00\u001b[0ma \u001b[36m0:00:01\u001b[0mm\n",
      "\u001b[2K   \u001b[90m━━━━━━━━━━━━━━━━━━━━━━━━━━━━━━━━━━━━━━━━\u001b[0m \u001b[32m240.0/240.0 kB\u001b[0m \u001b[31m1.1 MB/s\u001b[0m eta \u001b[36m0:00:00\u001b[0ma \u001b[36m0:00:01\u001b[0m\n",
      "\u001b[?25hInstalling collected packages: fairlearn\n",
      "Installing collected packages: fairlearn\n",
      "Successfully installed fairlearn-0.12.0\n",
      "Successfully installed fairlearn-0.12.0\n"
     ]
    }
   ],
   "source": [
    "# Install fairlearn for fairness metrics\n",
    "!pip install fairlearn"
   ]
  },
  {
   "cell_type": "markdown",
   "metadata": {},
   "source": [
    "### Step 1: Calculate Demographic Parity"
   ]
  },
  {
   "cell_type": "code",
   "execution_count": 13,
   "metadata": {},
   "outputs": [
    {
     "name": "stdout",
     "output_type": "stream",
     "text": [
      "Demographic Parity Difference: 0.037\n",
      "\n",
      "Interpretation:\n",
      "- Close to 0 = Fair (all races have similar positive prediction rates)\n",
      "- Positive = Some group has higher positive prediction rate\n",
      "- Negative = Some group has lower positive prediction rate\n"
     ]
    }
   ],
   "source": [
    "from fairlearn.metrics import demographic_parity_difference\n",
    "\n",
    "# Get race information for test set\n",
    "sensitive_feat = df['race'][y_testset.index]\n",
    "\n",
    "# Calculate demographic parity difference\n",
    "dpd = demographic_parity_difference(\n",
    "    y_true=y_testset, \n",
    "    y_pred=y_pred, \n",
    "    sensitive_features=sensitive_feat\n",
    ")\n",
    "\n",
    "print(f\"Demographic Parity Difference: {dpd:.3f}\")\n",
    "print(\"\\nInterpretation:\")\n",
    "print(\"- Close to 0 = Fair (all races have similar positive prediction rates)\")\n",
    "print(\"- Positive = Some group has higher positive prediction rate\")\n",
    "print(\"- Negative = Some group has lower positive prediction rate\")"
   ]
  },
  {
   "cell_type": "markdown",
   "metadata": {},
   "source": [
    "### Step 2: Analyze False Positive Rates by Race"
   ]
  },
  {
   "cell_type": "code",
   "execution_count": 14,
   "metadata": {},
   "outputs": [
    {
     "name": "stdout",
     "output_type": "stream",
     "text": [
      "False Positive Rates by Race:\n",
      "----------------------------------------\n",
      "race\n",
      "Caucasian           0.013021\n",
      "African-American    0.010941\n",
      "Asian               0.000000\n",
      "Hispanic            0.000000\n",
      "Native American     0.000000\n",
      "Other               0.000000\n",
      "Name: false_positive_rate, dtype: float64\n",
      "\n",
      "Overall FPR: 0.010\n",
      "\n",
      "Detailed Analysis for Black Individuals:\n",
      "- FPR: 0.011\n",
      "- This means 1.1% of Black non-recidivists are incorrectly\n",
      "  predicted to reoffend (false alarms)\n"
     ]
    }
   ],
   "source": [
    "from fairlearn.metrics import false_positive_rate, MetricFrame\n",
    "\n",
    "# Calculate FPR for each racial group\n",
    "fpr_frame = MetricFrame(\n",
    "    metrics=false_positive_rate,\n",
    "    y_true=y_testset,\n",
    "    y_pred=y_pred,\n",
    "    sensitive_features=sensitive_feat\n",
    ")\n",
    "\n",
    "print(\"False Positive Rates by Race:\")\n",
    "print(\"-\" * 40)\n",
    "print(fpr_frame.by_group.sort_values(ascending=False))\n",
    "print(f\"\\nOverall FPR: {fpr_frame.overall:.3f}\")\n",
    "\n",
    "# Specific analysis for Black individuals\n",
    "race_testset = df['race'][y_testset.index]\n",
    "black_mask = race_testset == 'African-American'\n",
    "if black_mask.any():\n",
    "    y_true_black = y_testset[black_mask]\n",
    "    y_pred_black = y_pred[black_mask]\n",
    "    fpr_black = false_positive_rate(y_true_black, y_pred_black)\n",
    "    \n",
    "    print(f\"\\nDetailed Analysis for Black Individuals:\")\n",
    "    print(f\"- FPR: {fpr_black:.3f}\")\n",
    "    print(f\"- This means {fpr_black*100:.1f}% of Black non-recidivists are incorrectly\")\n",
    "    print(f\"  predicted to reoffend (false alarms)\")"
   ]
  },
  {
   "cell_type": "markdown",
   "metadata": {},
   "source": [
    "### Step 3: Calculate Equalized Odds Difference"
   ]
  },
  {
   "cell_type": "code",
   "execution_count": 15,
   "metadata": {},
   "outputs": [
    {
     "name": "stdout",
     "output_type": "stream",
     "text": [
      "Equalized Odds Difference: 0.140\n",
      "\n",
      "Interpretation:\n",
      "- Measures if the model is equally accurate for all races\n",
      "- Close to 0 = Fair (similar accuracy across races)\n",
      "- Larger values = Model performs differently across races\n"
     ]
    }
   ],
   "source": [
    "from fairlearn.metrics import equalized_odds_difference\n",
    "\n",
    "# Calculate equalized odds difference\n",
    "eod = equalized_odds_difference(\n",
    "    y_true=y_testset,\n",
    "    y_pred=y_pred,\n",
    "    sensitive_features=sensitive_feat\n",
    ")\n",
    "\n",
    "print(f\"Equalized Odds Difference: {eod:.3f}\")\n",
    "print(\"\\nInterpretation:\")\n",
    "print(\"- Measures if the model is equally accurate for all races\")\n",
    "print(\"- Close to 0 = Fair (similar accuracy across races)\")\n",
    "print(\"- Larger values = Model performs differently across races\")"
   ]
  },
  {
   "cell_type": "markdown",
   "metadata": {},
   "source": [
    "### Visualize Fairness Metrics"
   ]
  },
  {
   "cell_type": "code",
   "execution_count": 16,
   "metadata": {},
   "outputs": [
    {
     "data": {
      "image/png": "[encoded data removed]",
      "text/plain": [
       "<Figure size 1200x500 with 2 Axes>"
      ]
     },
     "metadata": {},
     "output_type": "display_data"
    }
   ],
   "source": [
    "# Create a summary visualization\n",
    "fig, (ax1, ax2) = plt.subplots(1, 2, figsize=(12, 5))\n",
    "\n",
    "# Plot 1: FPR by race\n",
    "fpr_data = fpr_frame.by_group.sort_values(ascending=False)\n",
    "ax1.bar(range(len(fpr_data)), fpr_data.values)\n",
    "ax1.set_xticks(range(len(fpr_data)))\n",
    "ax1.set_xticklabels(fpr_data.index, rotation=45, ha='right')\n",
    "ax1.axhline(y=fpr_frame.overall, color='r', linestyle='--', label='Overall FPR')\n",
    "ax1.set_ylabel('False Positive Rate')\n",
    "ax1.set_title('False Positive Rates by Race')\n",
    "ax1.legend()\n",
    "\n",
    "# Plot 2: Prediction rates by race\n",
    "pred_rates = MetricFrame(\n",
    "    metrics=lambda y_true, y_pred: y_pred.mean(),\n",
    "    y_true=y_testset,\n",
    "    y_pred=y_pred,\n",
    "    sensitive_features=sensitive_feat\n",
    ").by_group\n",
    "\n",
    "ax2.bar(range(len(pred_rates)), pred_rates.values)\n",
    "ax2.set_xticks(range(len(pred_rates)))\n",
    "ax2.set_xticklabels(pred_rates.index, rotation=45, ha='right')\n",
    "ax2.set_ylabel('Positive Prediction Rate')\n",
    "ax2.set_title('Recidivism Prediction Rates by Race')\n",
    "\n",
    "plt.tight_layout()\n",
    "plt.show()"
   ]
  },
  {
   "cell_type": "markdown",
   "metadata": {},
   "source": [
    "### Try Different Model Parameters"
   ]
  },
  {
   "cell_type": "code",
   "execution_count": 17,
   "metadata": {},
   "outputs": [
    {
     "name": "stdout",
     "output_type": "stream",
     "text": [
      "Let's see how changing the model affects fairness:\n",
      "--------------------------------------------------\n",
      "\n",
      "Max Depth = 2:\n",
      "  Accuracy: 0.855\n",
      "  Demographic Parity Difference: 0.028\n",
      "\n",
      "Max Depth = 3:\n",
      "  Accuracy: 0.856\n",
      "  Demographic Parity Difference: 0.037\n",
      "\n",
      "Max Depth = 5:\n",
      "  Accuracy: 0.856\n",
      "  Demographic Parity Difference: 0.040\n"
     ]
    }
   ],
   "source": [
    "print(\"Let's see how changing the model affects fairness:\")\n",
    "print(\"-\" * 50)\n",
    "\n",
    "# Try different max_depth values\n",
    "for depth in [2, 3, 5]:\n",
    "    # Train model\n",
    "    clf_test = tree.DecisionTreeClassifier(max_depth=depth, random_state=42)\n",
    "    clf_test.fit(X_trainset, y_trainset)\n",
    "    y_pred_test = clf_test.predict(X_testset)\n",
    "    \n",
    "    # Calculate metrics\n",
    "    accuracy = accuracy_score(y_testset, y_pred_test)\n",
    "    dpd = demographic_parity_difference(y_true=y_testset, y_pred=y_pred_test, \n",
    "                                      sensitive_features=sensitive_feat)\n",
    "    \n",
    "    print(f\"\\nMax Depth = {depth}:\")\n",
    "    print(f\"  Accuracy: {accuracy:.3f}\")\n",
    "    print(f\"  Demographic Parity Difference: {dpd:.3f}\")"
   ]
  },
  {
   "cell_type": "markdown",
   "metadata": {},
   "source": [
    "## Part 3: Try Different Models\n",
    "\n",
    "### Random Forest Model"
   ]
  },
  {
   "cell_type": "code",
   "execution_count": 18,
   "metadata": {},
   "outputs": [
    {
     "name": "stdout",
     "output_type": "stream",
     "text": [
      "Random Forest Results:\n",
      "Accuracy: 0.847\n",
      "Demographic Parity Difference: 0.019\n",
      "\n",
      "Feature Importance:\n",
      "           feature  importance\n",
      "3     priors_count    0.637880\n",
      "1   juv_misd_count    0.147355\n",
      "2  juv_other_count    0.133445\n",
      "0    juv_fel_count    0.081320\n"
     ]
    }
   ],
   "source": [
    "from sklearn.ensemble import RandomForestClassifier\n",
    "\n",
    "# Train Random Forest\n",
    "rf_model = RandomForestClassifier(n_estimators=100, max_depth=5, random_state=42)\n",
    "rf_model.fit(X_trainset, y_trainset)\n",
    "\n",
    "# Make predictions\n",
    "y_pred_rf = rf_model.predict(X_testset)\n",
    "\n",
    "# Evaluate\n",
    "rf_accuracy = accuracy_score(y_testset, y_pred_rf)\n",
    "rf_dpd = demographic_parity_difference(y_true=y_testset, y_pred=y_pred_rf, \n",
    "                                     sensitive_features=sensitive_feat)\n",
    "\n",
    "print(\"Random Forest Results:\")\n",
    "print(f\"Accuracy: {rf_accuracy:.3f}\")\n",
    "print(f\"Demographic Parity Difference: {rf_dpd:.3f}\")\n",
    "\n",
    "# Feature importance\n",
    "feature_importance = pd.DataFrame({\n",
    "    'feature': X.columns,\n",
    "    'importance': rf_model.feature_importances_\n",
    "}).sort_values('importance', ascending=False)\n",
    "\n",
    "print(\"\\nFeature Importance:\")\n",
    "print(feature_importance)"
   ]
  },
  {
   "cell_type": "markdown",
   "metadata": {},
   "source": [
    "### Support Vector Machine"
   ]
  },
  {
   "cell_type": "code",
   "execution_count": 19,
   "metadata": {},
   "outputs": [
    {
     "name": "stdout",
     "output_type": "stream",
     "text": [
      "SVM Results:\n",
      "Accuracy: 0.849\n",
      "Demographic Parity Difference: 0.018\n"
     ]
    }
   ],
   "source": [
    "from sklearn.svm import SVC\n",
    "from sklearn.preprocessing import StandardScaler\n",
    "\n",
    "# SVM needs scaled features\n",
    "scaler = StandardScaler()\n",
    "X_train_scaled = scaler.fit_transform(X_trainset)\n",
    "X_test_scaled = scaler.transform(X_testset)\n",
    "\n",
    "# Train SVM\n",
    "svm_model = SVC(kernel='rbf', random_state=42)\n",
    "svm_model.fit(X_train_scaled, y_trainset)\n",
    "\n",
    "# Predictions\n",
    "y_pred_svm = svm_model.predict(X_test_scaled)\n",
    "\n",
    "# Evaluate\n",
    "svm_accuracy = accuracy_score(y_testset, y_pred_svm)\n",
    "svm_dpd = demographic_parity_difference(y_true=y_testset, y_pred=y_pred_svm, \n",
    "                                      sensitive_features=sensitive_feat)\n",
    "\n",
    "print(\"SVM Results:\")\n",
    "print(f\"Accuracy: {svm_accuracy:.3f}\")\n",
    "print(f\"Demographic Parity Difference: {svm_dpd:.3f}\")"
   ]
  },
  {
   "cell_type": "markdown",
   "metadata": {},
   "source": [
    "### K-Nearest Neighbors"
   ]
  },
  {
   "cell_type": "code",
   "execution_count": 20,
   "metadata": {},
   "outputs": [
    {
     "name": "stdout",
     "output_type": "stream",
     "text": [
      "K-Nearest Neighbors Results:\n",
      "Accuracy: 0.778\n",
      "Demographic Parity Difference: 0.142\n"
     ]
    }
   ],
   "source": [
    "from sklearn.neighbors import KNeighborsClassifier\n",
    "\n",
    "# Train KNN\n",
    "knn_model = KNeighborsClassifier(n_neighbors=5)\n",
    "knn_model.fit(X_train_scaled, y_trainset)\n",
    "\n",
    "# Predictions\n",
    "y_pred_knn = knn_model.predict(X_test_scaled)\n",
    "\n",
    "# Evaluate\n",
    "knn_accuracy = accuracy_score(y_testset, y_pred_knn)\n",
    "knn_dpd = demographic_parity_difference(y_true=y_testset, y_pred=y_pred_knn, \n",
    "                                      sensitive_features=sensitive_feat)\n",
    "\n",
    "print(\"K-Nearest Neighbors Results:\")\n",
    "print(f\"Accuracy: {knn_accuracy:.3f}\")\n",
    "print(f\"Demographic Parity Difference: {knn_dpd:.3f}\")"
   ]
  },
  {
   "cell_type": "markdown",
   "metadata": {},
   "source": [
    "### Compare All Models"
   ]
  },
  {
   "cell_type": "code",
   "execution_count": 21,
   "metadata": {},
   "outputs": [
    {
     "name": "stdout",
     "output_type": "stream",
     "text": [
      "Model Comparison Summary:\n",
      "           Model  Accuracy  Fairness (DPD)\n",
      "0  Decision Tree     0.856           0.037\n",
      "1  Random Forest     0.847           0.019\n",
      "2            SVM     0.849           0.018\n",
      "3            KNN     0.778           0.142\n"
     ]
    },
    {
     "data": {
      "image/png": "[encoded data removed]",
      "text/plain": [
       "<Figure size 1200x500 with 2 Axes>"
      ]
     },
     "metadata": {},
     "output_type": "display_data"
    }
   ],
   "source": [
    "# Create comparison summary\n",
    "models_comparison = pd.DataFrame({\n",
    "    'Model': ['Decision Tree', 'Random Forest', 'SVM', 'KNN'],\n",
    "    'Accuracy': [accuracy, rf_accuracy, svm_accuracy, knn_accuracy],\n",
    "    'Fairness (DPD)': [\n",
    "        demographic_parity_difference(y_true=y_testset, y_pred=y_pred, sensitive_features=sensitive_feat),\n",
    "        rf_dpd, svm_dpd, knn_dpd\n",
    "    ]\n",
    "})\n",
    "\n",
    "print(\"Model Comparison Summary:\")\n",
    "print(models_comparison.round(3))\n",
    "\n",
    "# Visualize comparison\n",
    "fig, (ax1, ax2) = plt.subplots(1, 2, figsize=(12, 5))\n",
    "\n",
    "# Accuracy comparison\n",
    "ax1.bar(models_comparison['Model'], models_comparison['Accuracy'])\n",
    "ax1.set_ylabel('Accuracy')\n",
    "ax1.set_title('Model Accuracy Comparison')\n",
    "ax1.set_ylim(0, 1)\n",
    "\n",
    "# Fairness comparison\n",
    "ax2.bar(models_comparison['Model'], models_comparison['Fairness (DPD)'].abs())\n",
    "ax2.set_ylabel('|Demographic Parity Difference|')\n",
    "ax2.set_title('Model Fairness Comparison (lower is better)')\n",
    "\n",
    "plt.tight_layout()\n",
    "plt.show()"
   ]
  },
  {
   "cell_type": "markdown",
   "metadata": {},
   "source": [
    "## Summary and Key Takeaways\n",
    "\n",
    "### What We Learned:\n",
    "\n",
    "1. **Model Building**: We can predict recidivism using criminal history features\n",
    "2. **Fairness Matters**: Models can have different impacts on different racial groups\n",
    "3. **Trade-offs Exist**: Sometimes more accurate models are less fair\n",
    "\n",
    "### Important Considerations:\n",
    "\n",
    "1. **False Positives Matter**: Incorrectly labeling someone as high-risk can affect their freedom\n",
    "2. **Historical Bias**: Training on biased historical data can perpetuate discrimination\n",
    "3. **Multiple Metrics**: Look at both accuracy AND fairness metrics\n",
    "\n",
    "### Questions to Think About:\n",
    "\n",
    "1. Is it ethical to use race-blind features that might correlate with race?\n",
    "2. Should we prioritize accuracy or fairness? Can we achieve both?\n",
    "3. How might these predictions affect real people's lives?\n",
    "\n",
    "### Next Steps:\n",
    "\n",
    "1. Try adding more features (age, sex, charge type)\n",
    "2. Experiment with fairness-aware algorithms\n",
    "3. Consider the real-world impact of your model's decisions\n"
   ]
  }
 ],
 "metadata": {
  "kernelspec": {
   "display_name": "base",
   "language": "python",
   "name": "python3"
  },
  "language_info": {
   "codemirror_mode": {
    "name": "ipython",
    "version": 3
   },
   "file_extension": ".py",
   "mimetype": "text/x-python",
   "name": "python",
   "nbconvert_exporter": "python",
   "pygments_lexer": "ipython3",
   "version": "3.11.7"
  }
 },
 "nbformat": 4,
 "nbformat_minor": 4
}
