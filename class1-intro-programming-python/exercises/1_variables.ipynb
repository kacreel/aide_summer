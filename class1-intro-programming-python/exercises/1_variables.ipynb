{
  "cells": [
    {
      "cell_type": "markdown",
      "id": "6f9d43ba",
      "metadata": {
        "id": "6f9d43ba"
      },
      "source": [
        "# Exercise 1: Variables\n",
        "\n",
        "Practice declaring and using variables in Python."
      ]
    },
    {
      "cell_type": "markdown",
      "id": "d65f1090",
      "metadata": {
        "id": "d65f1090"
      },
      "source": [
        "## 1. Create a variable named carname and assign the value Volvo to it. Print the variable."
      ]
    },
    {
      "cell_type": "code",
      "execution_count": null,
      "id": "26e0c85a",
      "metadata": {
        "id": "26e0c85a"
      },
      "outputs": [],
      "source": []
    },
    {
      "cell_type": "markdown",
      "id": "2bf021e3",
      "metadata": {
        "id": "2bf021e3"
      },
      "source": [
        "## 2. Create a variable named x and assign the value 50 to it. Print the variable."
      ]
    },
    {
      "cell_type": "code",
      "execution_count": null,
      "id": "bc12f7a0",
      "metadata": {
        "id": "bc12f7a0"
      },
      "outputs": [],
      "source": []
    },
    {
      "cell_type": "markdown",
      "id": "cc0f3b0e",
      "metadata": {
        "id": "cc0f3b0e"
      },
      "source": [
        "## 3. Print the sum of 5 + 10, using two variables: x and y"
      ]
    },
    {
      "cell_type": "code",
      "execution_count": null,
      "id": "525c3444",
      "metadata": {
        "id": "525c3444"
      },
      "outputs": [],
      "source": []
    },
    {
      "cell_type": "markdown",
      "id": "53b320c3",
      "metadata": {
        "id": "53b320c3"
      },
      "source": [
        "## 4. Create a variable called z, assign x + y to it (from the previous exercise), and print the result."
      ]
    },
    {
      "cell_type": "code",
      "execution_count": null,
      "id": "fd80d2b4",
      "metadata": {
        "id": "fd80d2b4"
      },
      "outputs": [],
      "source": []
    },
    {
      "cell_type": "markdown",
      "id": "28eb3464",
      "metadata": {
        "id": "28eb3464"
      },
      "source": [
        "## 5. Assign the strings \"orange\", \"apple\", and \"banana\" to variables x, y, z in one line. Print these variables."
      ]
    },
    {
      "cell_type": "code",
      "execution_count": null,
      "id": "7f854836",
      "metadata": {
        "id": "7f854836"
      },
      "outputs": [],
      "source": []
    }
  ],
  "metadata": {
    "language_info": {
      "name": "python"
    },
    "colab": {
      "provenance": []
    }
  },
  "nbformat": 4,
  "nbformat_minor": 5
}