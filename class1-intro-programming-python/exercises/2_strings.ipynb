{
  "nbformat": 4,
  "nbformat_minor": 0,
  "metadata": {
    "colab": {
      "provenance": []
    },
    "kernelspec": {
      "name": "python3",
      "display_name": "Python 3"
    },
    "language_info": {
      "name": "python"
    }
  },
  "cells": [
    {
      "cell_type": "markdown",
      "source": [
        "# Practice 2: Strings"
      ],
      "metadata": {
        "id": "HWOvFYDJM4Jm"
      }
    },
    {
      "cell_type": "markdown",
      "source": [
        "the following resources might be helpful in solving these exercises. If you're ever stuck when coding, google is your friend!\n",
        "\n",
        "\n",
        "\n",
        "*   https://flexiple.com/python/python-new-line\n",
        "*   https://stackoverflow.com/questions/56018995/how-to-print-a-string-that-contains-quotes-in-python\n",
        "*   https://docs.python.org/3/library/stdtypes.html#string-methods\n",
        "*   https://docs.python.org/3/library/stdtypes.html#printf-style-string-formatting\n"
      ],
      "metadata": {
        "id": "yT5_ag8nTLwt"
      }
    },
    {
      "cell_type": "code",
      "source": [
        "\n",
        "\n",
        "#EXERCISE 1:\n",
        "#find the length of the string \"hello\" and print the result\n",
        "\n",
        "print(\"\")\n",
        "\n"
      ],
      "metadata": {
        "id": "qDpYcWX9S9nj"
      },
      "execution_count": null,
      "outputs": []
    },
    {
      "cell_type": "code",
      "source": [
        "#EXERCISE 2:\n",
        "#combine the two strings \"cat\" and \"dog\" and print the result\n",
        "\n",
        "print(\"\")\n",
        "\n"
      ],
      "metadata": {
        "id": "_sVLRes2TFAL"
      },
      "execution_count": null,
      "outputs": []
    },
    {
      "cell_type": "code",
      "source": [
        "#EXERCISE 3:\n",
        "#Fill in the print function with a string so that it prints information about you in the following format:\n",
        "\n",
        "#Name: Mel Allen\n",
        "#Favorite food: Sushi\n",
        "#Good quote: \"I am human and I need to be loved\" - The Smiths\n",
        "\n",
        "#You may only use one print function\n",
        "\n",
        "print(\"\")\n",
        "\n"
      ],
      "metadata": {
        "id": "Nx2UG7H5TGZu"
      },
      "execution_count": null,
      "outputs": []
    },
    {
      "cell_type": "code",
      "source": [
        "#EXERCISE 4:\n",
        "#find the appropriate string method to count the number of times 'a' appears in the string 'abracadabra' and print the results\n",
        "\n",
        "print('abracadabra')\n",
        "\n"
      ],
      "metadata": {
        "id": "GF5CzdAuTHlQ"
      },
      "execution_count": null,
      "outputs": []
    },
    {
      "cell_type": "code",
      "source": [
        "#EXERCISE 5:\n",
        "#find the appropriate string method to test if the string 'hello' is all lowercase and print the results. Do the same with the string 'HELLO' and '12345'. Were the results different than you expected for the last string?\n",
        "\n",
        "print(\"hello\")\n",
        "print('HELLO')\n",
        "print(\"12345\")"
      ],
      "metadata": {
        "id": "mLJUveAjTIie"
      },
      "execution_count": null,
      "outputs": []
    },
    {
      "cell_type": "code",
      "source": [
        "#EXERCISE 6:\n",
        "#find the appropriate string method to replace all of the letter \"a\" in \"abracadabra\" with \"@\" and print the results\n",
        "\n",
        "print(\"abracadabra\")\n",
        "\n"
      ],
      "metadata": {
        "id": "tYXb9M9ITA2S"
      },
      "execution_count": null,
      "outputs": []
    },
    {
      "cell_type": "code",
      "source": [
        "#EXERCISE 7:\n",
        "#find the appropriate string method to split the string \"one, two, three\" into a list of three strings (we will talk more about lists next week) and print the result. The result should look like \"['one', ' two', ' three']\"\n",
        "\n",
        "print(\"one, two, three\")\n",
        "\n"
      ],
      "metadata": {
        "id": "3rkA9oQITCCV"
      },
      "execution_count": null,
      "outputs": []
    },
    {
      "cell_type": "code",
      "source": [
        "#EXERCISE 8:\n",
        "#find the appropriate string method to remove all the white space around the string \"   hello  \\n\" and print the results. Whitespace is any character or series of characters which creates space on a page but does not display a visible mark. Common whitespace characters include tabs, newlines and spaces.\n",
        "\n",
        "print(\"   hello  \\n\")"
      ],
      "metadata": {
        "id": "dtdp8ZoBTDAU"
      },
      "execution_count": null,
      "outputs": []
    }
  ]
}