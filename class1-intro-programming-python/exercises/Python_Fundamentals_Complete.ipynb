{
 "cells": [
  {
   "cell_type": "markdown",
   "id": "00c70041",
   "metadata": {},
   "source": [
    "# Python Fundamentals: Variables, Strings, and Data Structures\n",
    "\n",
    "## Objectives\n",
    "\n",
    "After completing this lab, you will be able to:\n",
    "\n",
    "* Create and manipulate variables in Python\n",
    "* Work with different data types (strings, numbers, booleans)\n",
    "* Use Python string methods and formatting\n",
    "* Create and manipulate lists, dictionaries, and sets\n",
    "* Read data from files and store it in appropriate data structures\n",
    "* Apply these concepts to solve real-world problems\n",
    "\n",
    "## Table of Contents\n",
    "\n",
    "1. [Variables and Data Types](#variables)\n",
    "2. [Working with Strings](#strings)\n",
    "3. [Data Structures: Lists, Dictionaries, and Sets](#data-structures)\n",
    "4. [File Operations and Data Processing](#file-operations)\n",
    "5. [Putting It All Together: Mini Project](#mini-project)\n",
    "\n",
    "---"
   ]
  },
  {
   "cell_type": "markdown",
   "id": "9ab8089b",
   "metadata": {},
   "source": [
    "<a id=\"variables\"></a>\n",
    "## 1. Variables and Data Types\n",
    "\n",
    "Variables are containers for storing data values. Python has several built-in data types that we'll explore.\n",
    "\n",
    "### Basic Variable Assignment\n",
    "\n",
    "In Python, you don't need to declare variable types explicitly. Python automatically determines the type based on the value assigned."
   ]
  },
  {
   "cell_type": "code",
   "execution_count": null,
   "id": "26f32cf8",
   "metadata": {},
   "outputs": [],
   "source": [
    "# Example: Creating variables of different types\n",
    "name = \"Alice\"           # String\n",
    "age = 25                 # Integer\n",
    "height = 5.6             # Float\n",
    "is_student = True        # Boolean\n",
    "\n",
    "print(f\"Name: {name}\")\n",
    "print(f\"Age: {age}\")\n",
    "print(f\"Height: {height}\")\n",
    "print(f\"Is Student: {is_student}\")\n",
    "\n",
    "# Check the type of variables\n",
    "print(f\"\\nType of name: {type(name)}\")\n",
    "print(f\"Type of age: {type(age)}\")\n",
    "print(f\"Type of height: {type(height)}\")\n",
    "print(f\"Type of is_student: {type(is_student)}\")"
   ]
  },
  {
   "cell_type": "markdown",
   "id": "eef95776",
   "metadata": {},
   "source": [
    "### Exercise 1.1: Basic Variable Creation\n",
    "\n",
    "Complete the following tasks:"
   ]
  },
  {
   "cell_type": "code",
   "execution_count": null,
   "id": "994f9859",
   "metadata": {},
   "outputs": [],
   "source": [
    "# TODO: Create a variable named 'carname' and assign the value 'Volvo' to it. Print the variable.\n",
    "\n",
    "\n",
    "# TODO: Create a variable named 'x' and assign the value 50 to it. Print the variable.\n",
    "\n",
    "\n",
    "# TODO: Create a variable named 'y' and assign the value 10 to it. Print the variable.\n",
    "\n",
    "\n",
    "# TODO: Print the sum of x + y using the variables you created\n",
    "\n"
   ]
  },
  {
   "cell_type": "markdown",
   "id": "5d93f728",
   "metadata": {},
   "source": [
    "### Exercise 1.2: Variable Operations\n",
    "\n",
    "Practice working with variables and operations:"
   ]
  },
  {
   "cell_type": "code",
   "execution_count": null,
   "id": "83315ec7",
   "metadata": {},
   "outputs": [],
   "source": [
    "# TODO: Create a variable called 'z', assign x + y to it (from the previous exercise), and print the result.\n",
    "\n",
    "\n",
    "# TODO: Create variables for your personal information\n",
    "# - full_name: your full name (string)\n",
    "# - birth_year: year you were born (integer)\n",
    "# - current_year: 2025 (integer)\n",
    "# - Calculate and print your age using current_year - birth_year\n",
    "\n"
   ]
  },
  {
   "cell_type": "markdown",
   "id": "64500f5d",
   "metadata": {},
   "source": [
    "### Exercise 1.3: Multiple Assignment\n",
    "\n",
    "Python allows you to assign multiple variables in one line:"
   ]
  },
  {
   "cell_type": "code",
   "execution_count": null,
   "id": "3e72b215",
   "metadata": {},
   "outputs": [],
   "source": [
    "# Example: Multiple assignment\n",
    "a, b, c = 1, 2, 3\n",
    "print(f\"a = {a}, b = {b}, c = {c}\")\n",
    "\n",
    "# TODO: Assign the strings \"orange\", \"apple\", and \"banana\" to variables x, y, z in one line. Print these variables.\n",
    "\n"
   ]
  },
  {
   "cell_type": "markdown",
   "id": "48f6c57c",
   "metadata": {},
   "source": [
    "---\n",
    "<a id=\"strings\"></a>\n",
    "## 2. Working with Strings\n",
    "\n",
    "Strings are sequences of characters enclosed in quotes. Python provides many useful methods for string manipulation.\n",
    "\n",
    "### String Basics and Methods"
   ]
  },
  {
   "cell_type": "code",
   "execution_count": null,
   "id": "35736ad8",
   "metadata": {},
   "outputs": [],
   "source": [
    "# Example: String creation and basic operations\n",
    "message = \"Hello, World!\"\n",
    "print(f\"Original message: {message}\")\n",
    "print(f\"Length of message: {len(message)}\")\n",
    "print(f\"Uppercase: {message.upper()}\")\n",
    "print(f\"Lowercase: {message.lower()}\")\n",
    "print(f\"Replace 'World' with 'Python': {message.replace('World', 'Python')}\")\n",
    "\n",
    "# String indexing and slicing\n",
    "print(f\"\\nFirst character: {message[0]}\")\n",
    "print(f\"Last character: {message[-1]}\")\n",
    "print(f\"First 5 characters: {message[:5]}\")\n",
    "print(f\"Last 6 characters: {message[-6:]}\")"
   ]
  },
  {
   "cell_type": "markdown",
   "id": "3a5ddf7f",
   "metadata": {},
   "source": [
    "### Exercise 2.1: String Operations\n",
    "\n",
    "Complete these string manipulation tasks:"
   ]
  },
  {
   "cell_type": "code",
   "execution_count": null,
   "id": "aaeb6a90",
   "metadata": {},
   "outputs": [],
   "source": [
    "# TODO: Find the length of the string \"hello\" and print the result\n",
    "\n",
    "\n",
    "# TODO: Create a string with your favorite quote (include quotes in the text)\n",
    "# Hint: Use escape characters \\\" or mix single and double quotes\n",
    "favorite_quote = \"\"  # Replace with your quote\n",
    "print(favorite_quote)\n",
    "\n",
    "# TODO: Take the string \"Python Programming\" and:\n",
    "# 1. Convert it to uppercase\n",
    "# 2. Convert it to lowercase  \n",
    "# 3. Replace \"Programming\" with \"is Fun\"\n",
    "# 4. Find the position of \"Programming\" in the original string\n",
    "\n",
    "text = \"Python Programming\"\n",
    "\n"
   ]
  },
  {
   "cell_type": "markdown",
   "id": "5c272b77",
   "metadata": {},
   "source": [
    "### Exercise 2.2: String Formatting\n",
    "\n",
    "Python offers several ways to format strings. Practice with f-strings (recommended method):"
   ]
  },
  {
   "cell_type": "code",
   "execution_count": null,
   "id": "6e8068e1",
   "metadata": {},
   "outputs": [],
   "source": [
    "# Example: Different string formatting methods\n",
    "name = \"Alice\"\n",
    "age = 25\n",
    "score = 95.5\n",
    "\n",
    "# f-string formatting (recommended)\n",
    "print(f\"Student {name} is {age} years old and scored {score}%\")\n",
    "\n",
    "# TODO: Create variables for a student's information and use f-string formatting to create a report\n",
    "student_name = \"\"  # Add a student name\n",
    "student_grade = 0  # Add a grade (A, B, C, etc.)\n",
    "student_gpa = 0.0  # Add a GPA value\n",
    "\n",
    "# Create a formatted report string using f-strings\n",
    "\n"
   ]
  },
  {
   "cell_type": "markdown",
   "id": "1f31273c",
   "metadata": {},
   "source": [
    "### Exercise 2.3: Multi-line Strings and Special Characters\n",
    "\n",
    "Work with more complex string scenarios:"
   ]
  },
  {
   "cell_type": "code",
   "execution_count": null,
   "id": "1b628cef",
   "metadata": {},
   "outputs": [],
   "source": [
    "# TODO: Create a multi-line string that contains a poem or song lyrics\n",
    "# Use triple quotes to create the multi-line string\n",
    "poem = \"\"\"\n",
    "\"\"\"\n",
    "\n",
    "print(poem)\n",
    "\n",
    "# TODO: Create a string that demonstrates:\n",
    "# 1. Tab character (\\t)\n",
    "# 2. New line character (\\n)\n",
    "# 3. Escaped quotes (\\\")\n",
    "\n",
    "formatted_text = \"\"  # Create your formatted string here\n",
    "print(formatted_text)"
   ]
  },
  {
   "cell_type": "markdown",
   "id": "0377a4df",
   "metadata": {},
   "source": [
    "---\n",
    "<a id=\"data-structures\"></a>\n",
    "## 3. Data Structures: Lists, Dictionaries, and Sets\n",
    "\n",
    "Python provides powerful built-in data structures for organizing and manipulating data.\n",
    "\n",
    "### Lists: Ordered Collections"
   ]
  },
  {
   "cell_type": "code",
   "execution_count": null,
   "id": "37fc2876",
   "metadata": {},
   "outputs": [],
   "source": [
    "# Example: Working with lists\n",
    "fruits = [\"apple\", \"banana\", \"cherry\", \"date\"]\n",
    "print(f\"Original list: {fruits}\")\n",
    "print(f\"First fruit: {fruits[0]}\")\n",
    "print(f\"Last fruit: {fruits[-1]}\")\n",
    "\n",
    "# Adding elements\n",
    "fruits.append(\"elderberry\")\n",
    "fruits.insert(1, \"blueberry\")\n",
    "print(f\"After adding elements: {fruits}\")\n",
    "\n",
    "# Removing elements\n",
    "fruits.remove(\"banana\")\n",
    "print(f\"After removing banana: {fruits}\")\n",
    "\n",
    "# List operations\n",
    "print(f\"Length of list: {len(fruits)}\")\n",
    "print(f\"Is 'apple' in the list? {'apple' in fruits}\")"
   ]
  },
  {
   "cell_type": "markdown",
   "id": "48ec8d30",
   "metadata": {},
   "source": [
    "### Exercise 3.1: List Manipulation\n",
    "\n",
    "Practice working with lists:"
   ]
  },
  {
   "cell_type": "code",
   "execution_count": null,
   "id": "6d4f255d",
   "metadata": {},
   "outputs": [],
   "source": [
    "# TODO: Create a list of your top 5 favorite movies\n",
    "movies = []  # Add your movies here\n",
    "\n",
    "# TODO: Print the list and its length\n",
    "\n",
    "\n",
    "# TODO: Add a new movie to the end of the list\n",
    "\n",
    "\n",
    "# TODO: Insert a movie at the beginning of the list\n",
    "\n",
    "\n",
    "# TODO: Remove a movie from the list\n",
    "\n",
    "\n",
    "# TODO: Print the first and last movies in your updated list\n",
    "\n",
    "\n",
    "# TODO: Check if a specific movie is in your list\n",
    "\n"
   ]
  },
  {
   "cell_type": "markdown",
   "id": "afe45fb1",
   "metadata": {},
   "source": [
    "### Dictionaries: Key-Value Pairs"
   ]
  },
  {
   "cell_type": "code",
   "execution_count": null,
   "id": "34a985cd",
   "metadata": {},
   "outputs": [],
   "source": [
    "# Example: Working with dictionaries\n",
    "student = {\n",
    "    \"name\": \"John Doe\",\n",
    "    \"age\": 20,\n",
    "    \"major\": \"Computer Science\",\n",
    "    \"gpa\": 3.8,\n",
    "    \"courses\": [\"Python\", \"Math\", \"Physics\"]\n",
    "}\n",
    "\n",
    "print(f\"Student info: {student}\")\n",
    "print(f\"Student name: {student['name']}\")\n",
    "print(f\"Student GPA: {student['gpa']}\")\n",
    "\n",
    "# Adding and modifying entries\n",
    "student[\"email\"] = \"john.doe@university.edu\"\n",
    "student[\"gpa\"] = 3.9\n",
    "\n",
    "print(f\"Updated student info: {student}\")\n",
    "\n",
    "# Getting all keys and values\n",
    "print(f\"Keys: {student.keys()}\")\n",
    "print(f\"Values: {student.values()}\")"
   ]
  },
  {
   "cell_type": "markdown",
   "id": "19b54cca",
   "metadata": {},
   "source": [
    "### Exercise 3.2: Dictionary Operations\n",
    "\n",
    "Create and manipulate dictionaries:"
   ]
  },
  {
   "cell_type": "code",
   "execution_count": null,
   "id": "fc27ae56",
   "metadata": {},
   "outputs": [],
   "source": [
    "# TODO: Create a dictionary representing a book with the following keys:\n",
    "# title, author, year_published, genre, pages\n",
    "book = {}  # Create your book dictionary here\n",
    "\n",
    "# TODO: Print the book information\n",
    "\n",
    "\n",
    "# TODO: Add a new key \"rating\" with a value from 1-5\n",
    "\n",
    "\n",
    "# TODO: Update the year_published to a different year\n",
    "\n",
    "\n",
    "# TODO: Print all the keys in the dictionary\n",
    "\n",
    "\n",
    "# TODO: Print all the values in the dictionary\n",
    "\n",
    "\n",
    "# TODO: Check if \"author\" is a key in the dictionary\n",
    "\n"
   ]
  },
  {
   "cell_type": "markdown",
   "id": "836443c1",
   "metadata": {},
   "source": [
    "### Sets: Unique Collections"
   ]
  },
  {
   "cell_type": "code",
   "execution_count": null,
   "id": "dda31704",
   "metadata": {},
   "outputs": [],
   "source": [
    "# Example: Working with sets\n",
    "numbers = {1, 2, 3, 4, 5, 5, 4, 3}  # Duplicates will be removed\n",
    "print(f\"Set of numbers: {numbers}\")\n",
    "\n",
    "colors = {\"red\", \"green\", \"blue\"}\n",
    "more_colors = {\"blue\", \"yellow\", \"orange\"}\n",
    "\n",
    "# Set operations\n",
    "print(f\"Union: {colors | more_colors}\")\n",
    "print(f\"Intersection: {colors & more_colors}\")\n",
    "print(f\"Difference: {colors - more_colors}\")\n",
    "\n",
    "# Adding and removing elements\n",
    "colors.add(\"purple\")\n",
    "colors.remove(\"red\")\n",
    "print(f\"Modified colors: {colors}\")"
   ]
  },
  {
   "cell_type": "markdown",
   "id": "add13937",
   "metadata": {},
   "source": [
    "### Exercise 3.3: Set Operations\n",
    "\n",
    "Practice with sets:"
   ]
  },
  {
   "cell_type": "code",
   "execution_count": null,
   "id": "00fa369e",
   "metadata": {},
   "outputs": [],
   "source": [
    "# TODO: Create two sets of programming languages\n",
    "languages_set1 = {}  # Add languages like Python, Java, C++\n",
    "languages_set2 = {}  # Add languages like Python, JavaScript, Ruby\n",
    "\n",
    "# TODO: Print both sets\n",
    "\n",
    "\n",
    "# TODO: Find and print the union of both sets (all unique languages)\n",
    "\n",
    "\n",
    "# TODO: Find and print the intersection (common languages)\n",
    "\n",
    "\n",
    "# TODO: Find languages that are in set1 but not in set2\n",
    "\n",
    "\n",
    "# TODO: Add a new language to set1 and remove one from set2\n",
    "\n"
   ]
  },
  {
   "cell_type": "markdown",
   "id": "b9485894",
   "metadata": {},
   "source": [
    "---\n",
    "<a id=\"file-operations\"></a>\n",
    "## 4. File Operations and Data Processing\n",
    "\n",
    "Learn to read data from files and organize it using Python data structures.\n",
    "\n",
    "### Reading Files and Processing Data"
   ]
  },
  {
   "cell_type": "code",
   "execution_count": null,
   "id": "2432f2e2",
   "metadata": {},
   "outputs": [],
   "source": [
    "# First, let's create a sample data file to work with\n",
    "sample_data = \"\"\"apple\n",
    "banana\n",
    "cherry\n",
    "date\n",
    "elderberry\n",
    "fig\n",
    "grape\"\"\"\n",
    "\n",
    "# Write sample data to a file\n",
    "with open('fruits_data.txt', 'w') as file:\n",
    "    file.write(sample_data)\n",
    "\n",
    "print(\"Sample data file created!\")"
   ]
  },
  {
   "cell_type": "code",
   "execution_count": null,
   "id": "cd397e4d",
   "metadata": {},
   "outputs": [],
   "source": [
    "# Example: Reading from a file and storing in different data structures\n",
    "print(\"Reading fruits from file:\")\n",
    "\n",
    "# Method 1: Store in a list\n",
    "fruits_list = []\n",
    "with open('fruits_data.txt', 'r') as file:\n",
    "    for line in file:\n",
    "        fruits_list.append(line.strip())\n",
    "\n",
    "print(f\"Fruits in list: {fruits_list}\")\n",
    "\n",
    "# Method 2: Store in a set (for unique values)\n",
    "fruits_set = set()\n",
    "with open('fruits_data.txt', 'r') as file:\n",
    "    for line in file:\n",
    "        fruits_set.add(line.strip())\n",
    "\n",
    "print(f\"Fruits in set: {fruits_set}\")\n",
    "\n",
    "# Method 3: Store with additional information in a dictionary\n",
    "fruits_dict = {}\n",
    "with open('fruits_data.txt', 'r') as file:\n",
    "    for i, line in enumerate(file, 1):\n",
    "        fruit_name = line.strip()\n",
    "        fruits_dict[fruit_name] = {\"id\": i, \"length\": len(fruit_name)}\n",
    "\n",
    "print(f\"Fruits dictionary: {fruits_dict}\")"
   ]
  },
  {
   "cell_type": "markdown",
   "id": "ac34d3fb",
   "metadata": {},
   "source": [
    "### Exercise 4.1: File Processing\n",
    "\n",
    "Work with file data and data structures:"
   ]
  },
  {
   "cell_type": "code",
   "execution_count": null,
   "id": "e6f9abe5",
   "metadata": {},
   "outputs": [],
   "source": [
    "# Let's create a more complex data file\n",
    "student_data = \"\"\"John Doe,20,Computer Science,3.8\n",
    "Jane Smith,19,Mathematics,3.9\n",
    "Bob Johnson,21,Physics,3.7\n",
    "Alice Brown,20,Chemistry,3.6\n",
    "Charlie Davis,22,Biology,3.5\"\"\"\n",
    "\n",
    "with open('students_data.txt', 'w') as file:\n",
    "    file.write(student_data)\n",
    "\n",
    "print(\"Student data file created!\")\n",
    "\n",
    "# TODO: Read the student data and create a list of dictionaries\n",
    "# Each dictionary should represent one student with keys: name, age, major, gpa\n",
    "students = []\n",
    "\n",
    "# Your code here to read the file and populate the students list\n",
    "\n",
    "\n",
    "# TODO: Print information about all students\n",
    "\n",
    "\n",
    "# TODO: Find and print the student with the highest GPA\n",
    "\n",
    "\n",
    "# TODO: Create a set of all unique majors\n",
    "\n",
    "\n",
    "# TODO: Count how many students are in each major (use a dictionary)\n",
    "\n"
   ]
  },
  {
   "cell_type": "markdown",
   "id": "dd58ab75",
   "metadata": {},
   "source": [
    "---\n",
    "<a id=\"mini-project\"></a>\n",
    "## 5. Putting It All Together: Mini Project\n",
    "\n",
    "Let's create a research study management system that demonstrates all the concepts we've learned. This system will help social scientists and philosophers organize their research data, track study participants, and manage research resources.\n",
    "\n",
    "### Research Study Management System"
   ]
  },
  {
   "cell_type": "code",
   "execution_count": null,
   "id": "3e4a49a6",
   "metadata": {},
   "outputs": [],
   "source": [
    "# Mini Project: Research Study Management System\n",
    "\n",
    "# TODO: Create a research study management system with the following features:\n",
    "# 1. Store study participants in a list of dictionaries\n",
    "# 2. Each participant should have: participant_id, age, education_level, research_area, consent_status\n",
    "# 3. Implement functions to add, search, and display participants\n",
    "# 4. Track research themes and methodologies\n",
    "\n",
    "# Initialize research data structures\n",
    "participants = []\n",
    "research_themes = set()\n",
    "methodologies = {\"qualitative\": [], \"quantitative\": [], \"mixed_methods\": []}\n",
    "\n",
    "def add_participant(participant_id, age, education_level, research_area, consent_status=True):\n",
    "    \"\"\"Add a new participant to the study\"\"\"\n",
    "    # TODO: Create a participant dictionary and add it to participants list\n",
    "    # Also add their research_area to the research_themes set\n",
    "    pass\n",
    "\n",
    "def search_participants_by_area(research_area):\n",
    "    \"\"\"Search for participants by research area\"\"\"\n",
    "    # TODO: Search through participants and return matches\n",
    "    pass\n",
    "\n",
    "def display_all_participants():\n",
    "    \"\"\"Display all participants in a formatted way\"\"\"\n",
    "    # TODO: Print all participants in a nice format\n",
    "    pass\n",
    "\n",
    "def get_education_levels():\n",
    "    \"\"\"Return a set of all unique education levels\"\"\"\n",
    "    # TODO: Create and return a set of all education levels from participants\n",
    "    pass\n",
    "\n",
    "def get_consent_summary():\n",
    "    \"\"\"Return summary of consent status\"\"\"\n",
    "    # TODO: Count participants with consent vs without consent\n",
    "    pass\n",
    "\n",
    "# TODO: Add some sample participants using the add_participant function\n",
    "# Sample participants for social science/philosophy research:\n",
    "# (\"P001\", 25, \"Masters\", \"Ethics\", True)\n",
    "# (\"P002\", 32, \"PhD\", \"Political Philosophy\", True)\n",
    "# (\"P003\", 28, \"Bachelors\", \"Social Psychology\", False)\n",
    "# (\"P004\", 45, \"PhD\", \"Philosophy of Mind\", True)\n",
    "# (\"P005\", 22, \"Bachelors\", \"Sociology\", True)\n",
    "\n",
    "\n",
    "# TODO: Display all participants\n",
    "\n",
    "\n",
    "# TODO: Search for participants in a specific research area\n",
    "\n",
    "\n",
    "# TODO: Display all unique education levels\n",
    "\n",
    "\n",
    "# TODO: Show consent summary\n",
    "\n"
   ]
  },
  {
   "cell_type": "markdown",
   "id": "3db6b5b4",
   "metadata": {},
   "source": [
    "### Exercise 5.1: Enhance the Research System\n",
    "\n",
    "Add more advanced features to make the research study management system more comprehensive for academic research:"
   ]
  },
  {
   "cell_type": "code",
   "execution_count": null,
   "id": "dc9ee86a",
   "metadata": {},
   "outputs": [],
   "source": [
    "# TODO: Add the following enhancements to your research system:\n",
    "\n",
    "def count_participants_by_education():\n",
    "    \"\"\"Return a dictionary with education level as key and count of participants as value\"\"\"\n",
    "    # TODO: Count participants by education level\n",
    "    pass\n",
    "\n",
    "def find_participants_by_age_range(min_age, max_age):\n",
    "    \"\"\"Find all participants within a specific age range\"\"\"\n",
    "    # TODO: Return list of participants in the given age range\n",
    "    pass\n",
    "\n",
    "def update_participant_consent(participant_id, consent_status):\n",
    "    \"\"\"Update consent status for a specific participant\"\"\"\n",
    "    # TODO: Find participant by ID and update their consent status\n",
    "    pass\n",
    "\n",
    "def add_research_methodology(participant_id, methodology_type, description):\n",
    "    \"\"\"Add methodology information for a participant's study\"\"\"\n",
    "    # TODO: Add methodology data to the methodologies dictionary\n",
    "    # methodology_type should be: \"qualitative\", \"quantitative\", or \"mixed_methods\"\n",
    "    pass\n",
    "\n",
    "def generate_research_summary():\n",
    "    \"\"\"Generate a comprehensive summary of the research study\"\"\"\n",
    "    # TODO: Create a summary report including:\n",
    "    # - Total participants\n",
    "    # - Consent rate\n",
    "    # - Education level distribution\n",
    "    # - Research areas covered\n",
    "    # - Age demographics\n",
    "    pass\n",
    "\n",
    "def save_research_data():\n",
    "    \"\"\"Save research data to files for backup and analysis\"\"\"\n",
    "    # TODO: Save participant data and research summary to text files\n",
    "    pass\n",
    "\n",
    "# Test your enhanced functions:\n",
    "\n",
    "# TODO: Count participants by education level\n",
    "\n",
    "\n",
    "# TODO: Find participants in a specific age range (e.g., 25-35)\n",
    "\n",
    "\n",
    "# TODO: Update consent status for a participant\n",
    "\n",
    "\n",
    "# TODO: Add methodology information for participants\n",
    "\n",
    "\n",
    "# TODO: Generate and display research summary\n",
    "\n",
    "\n",
    "# TODO: Save research data to files\n",
    "\n"
   ]
  },
  {
   "cell_type": "markdown",
   "id": "c0ec21e4",
   "metadata": {},
   "source": [
    "## Summary and Next Steps\n",
    "\n",
    "Congratulations! You've completed the Python Fundamentals lab! You've learned:\n",
    "\n",
    "### Key Concepts Covered:\n",
    "- **Variables and Data Types**: Creating and working with different types of research data\n",
    "- **String Manipulation**: Processing text data, quotes, and research materials\n",
    "- **Lists**: Managing collections of participants, studies, and research elements\n",
    "- **Dictionaries**: Organizing structured research data and participant information\n",
    "- **Sets**: Working with unique collections of research themes and categories\n",
    "- **File Operations**: Reading and writing research data for analysis and backup\n",
    "- **Data Integration**: Combining different data structures for comprehensive research management\n"
   ]
  }
 ],
 "metadata": {
  "language_info": {
   "name": "python"
  }
 },
 "nbformat": 4,
 "nbformat_minor": 5
}
