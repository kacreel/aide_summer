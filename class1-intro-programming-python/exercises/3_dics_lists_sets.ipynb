{
  "cells": [
    {
      "cell_type": "markdown",
      "id": "IAdLDROfRcgW",
      "metadata": {
        "id": "IAdLDROfRcgW"
      },
      "source": [
        "# Practice 3: Dictionaries, Lists, and Sets"
      ]
    },
    {
      "cell_type": "markdown",
      "id": "tFkb6FCkR7dP",
      "metadata": {
        "id": "tFkb6FCkR7dP"
      },
      "source": [
        "Now we will read some data in from a file and use dictionaries, lists, and sets to store the data in a variable\n",
        "\n",
        "here is some basic code for reading lines from a file\n",
        "\n",
        "*   you can see the contents of the file in 'data.txt'\n",
        "*   the for loop allows us to work with each line in the data file, in this case fruits\n",
        "*  The '.strip()' removes all newline characters so we can work with just the strings\n"
      ]
    },
    {
      "cell_type": "code",
      "execution_count": null,
      "id": "uZbiYoN1RfX5",
      "metadata": {
        "id": "uZbiYoN1RfX5"
      },
      "outputs": [],
      "source": [
        "# Read lines from a file and print each line (fruits)\n",
        "for line in open(''data.txt'):\n",
        "    print(line.strip())"
      ]
    },
    {
      "cell_type": "code",
      "execution_count": null,
      "id": "hTg9cBXORhSP",
      "metadata": {
        "id": "hTg9cBXORhSP"
      },
      "outputs": [],
      "source": [
        "#EXERCISE 1: modify the above code to save the fruits into a list and print the list\n",
        "\n",
        "fruits_list = []\n",
        "\n",
        "for line in open('data.txt'):\n",
        "  pass #TO DO: write code so that the data is saved in a list\n",
        "\n",
        "print(\"List of fruits: \", fruits_list)"
      ]
    },
    {
      "cell_type": "code",
      "execution_count": null,
      "id": "Oin5E21GRoA-",
      "metadata": {
        "id": "Oin5E21GRoA-"
      },
      "outputs": [],
      "source": [
        "#EXERCISE 2: modify the code to save the fruits into a set\n",
        "\n",
        "fruits_set = {}\n",
        "\n",
        "for line in open('data.txt'):\n",
        "  pass #TO DO: write code so that the data is saved in a set\n",
        "\n",
        "print(\"Set of fruits: \", fruits_set)"
      ]
    },
    {
      "cell_type": "code",
      "execution_count": null,
      "id": "3ba7058b",
      "metadata": {
        "id": "3ba7058b"
      },
      "outputs": [],
      "source": [
        "#EXERCISE 3 (CHALLENGE): modify the code to save the fruits in a dictionary where each key is a fruit and each value is the number of times that fruit appears in the data\n",
        "\n",
        "fruits_dict = {}\n",
        "\n",
        "for line in open('data.txt'):\n",
        "  pass #TO DO: write code so that the data is saved into a dict\n",
        "\n",
        "print(\"Dict of fruits: \", fruits_dict)\n"
      ]
    }
  ],
  "metadata": {
    "colab": {
      "provenance": []
    },
    "language_info": {
      "name": "python"
    }
  },
  "nbformat": 4,
  "nbformat_minor": 5
}
