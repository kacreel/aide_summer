{
 "cells": [
  {
   "cell_type": "markdown",
   "metadata": {},
   "source": [
    "# Differential Privacy: Hands-On Exercises\n",
    "\n",
    "## 📚 Overview\n",
    "\n",
    "This notebook demonstrates why traditional data anonymization methods fail to protect privacy. Through practical exercises, you'll learn how to perform various privacy attacks on \"de-identified\" data.\n",
    "\n",
    "**Based on**: [Programming Differential Privacy Chapter 1](https://programming-dp.com/ch1.html)\n",
    "\n",
    "## 🎯 Learning Objectives\n",
    "\n",
    "By completing these exercises, you will:\n",
    "1. Understand the limitations of de-identification\n",
    "2. Perform linkage attacks using auxiliary information\n",
    "3. Discover how aggregation can leak individual data\n",
    "4. Execute differencing attacks on aggregate statistics\n",
    "\n",
    "---"
   ]
  },
  {
   "cell_type": "markdown",
   "metadata": {},
   "source": [
    "## 📦 Setup and Imports\n",
    "\n",
    "First, let's import the necessary packages and configure our environment."
   ]
  },
  {
   "cell_type": "code",
   "execution_count": null,
   "metadata": {},
   "outputs": [],
   "source": [
    "# Import required packages\n",
    "import pandas as pd\n",
    "import numpy as np\n",
    "import matplotlib.pyplot as plt\n",
    "\n",
    "# Configure pandas to display all columns for better visibility\n",
    "pd.set_option('display.max_columns', 20)\n",
    "\n",
    "print(\"✅ Packages imported successfully!\")"
   ]
  },
  {
   "cell_type": "markdown",
   "metadata": {},
   "source": [
    "## 📊 Load and Explore the Dataset\n",
    "\n",
    "We'll use a census dataset that includes synthetic personally identifiable information (PII) for educational purposes.\n",
    "\n",
    "**Note**: Make sure you have downloaded `adult_with_pii.csv` from the course materials."
   ]
  },
  {
   "cell_type": "code",
   "execution_count": null,
   "metadata": {},
   "outputs": [],
   "source": [
    "# Read the dataset\n",
    "adult = pd.read_csv(\"adult_with_pii.csv\")\n",
    "\n",
    "print(\"📋 Dataset Overview:\")\n",
    "print(f\"Shape: {adult.shape}\")\n",
    "print(f\"Columns: {list(adult.columns)}\")\n",
    "print(\"\\n🔍 First 5 records:\")\n",
    "adult.head()"
   ]
  },
  {
   "cell_type": "markdown",
   "metadata": {},
   "source": [
    "## 🛡️ De-identification Process\n",
    "\n",
    "Organizations often \"de-identify\" data by removing obvious identifiers like names and SSNs. Let's simulate this process:"
   ]
  },
  {
   "cell_type": "code",
   "execution_count": null,
   "metadata": {},
   "outputs": [],
   "source": [
    "# Create a \"de-identified\" dataset by dropping PII columns\n",
    "adult_data = adult.copy().drop(columns=['Name', 'SSN'])\n",
    "\n",
    "# Save PII separately (we'll use this for our attacks)\n",
    "adult_pii = adult[['Name', 'SSN', 'DOB', 'Zip']]\n",
    "\n",
    "print(\"✅ De-identification complete!\")\n",
    "print(\"\\n📊 'De-identified' dataset (first record):\")\n",
    "print(adult_data.head(1))\n",
    "print(\"\\n⚠️ Question: Is this data truly anonymous now?\")"
   ]
  },
  {
   "cell_type": "markdown",
   "metadata": {},
   "source": [
    "---\n",
    "\n",
    "# 🔓 Part 1: Linkage Attacks\n",
    "\n",
    "A **linkage attack** uses auxiliary information to re-identify individuals in supposedly anonymous data."
   ]
  },
  {
   "cell_type": "markdown",
   "metadata": {},
   "source": [
    "## Exercise 1: Basic Linkage Attack\n",
    "\n",
    "**Task**: Perform a linkage attack on Brenn McNeely using date of birth and ZIP code.\n",
    "\n",
    "**Scenario**: You know Brenn McNeely's birthday and ZIP code from public sources (e.g., social media)."
   ]
  },
  {
   "cell_type": "code",
   "execution_count": null,
   "metadata": {},
   "outputs": [],
   "source": [
    "# Find Brenn's row in our auxiliary data\n",
    "brenns_row = adult_pii[adult_pii['Name'] == 'Brenn McNeely']\n",
    "\n",
    "print(\"🎯 Target: Brenn McNeely\")\n",
    "print(f\"Known information: DOB={brenns_row['DOB'].values[0]}, ZIP={brenns_row['Zip'].values[0]}\")\n",
    "print(\"\\n🔍 Performing linkage attack...\")\n",
    "\n",
    "# Perform the linkage attack using DOB and ZIP\n",
    "result = pd.merge(brenns_row, adult_data, \n",
    "                  left_on=[\"Zip\", \"DOB\"], \n",
    "                  right_on=[\"Zip\", \"DOB\"])\n",
    "\n",
    "print(f\"\\n✅ Attack successful! Found {len(result)} matching record(s)\")\n",
    "print(\"\\n📊 Brenn's private information revealed:\")\n",
    "result"
   ]
  },
  {
   "cell_type": "markdown",
   "metadata": {},
   "source": [
    "## Exercise 2: Linkage with Limited Information\n",
    "\n",
    "**Task**: What if we only know Brenn's ZIP code? How effective is the attack?"
   ]
  },
  {
   "cell_type": "code",
   "execution_count": null,
   "metadata": {},
   "outputs": [],
   "source": [
    "print(\"🔍 Attempting linkage with only ZIP code...\")\n",
    "\n",
    "# Perform linkage attack with only ZIP\n",
    "zip_only_result = pd.merge(brenns_row, adult_data, \n",
    "                          left_on=['Zip'], \n",
    "                          right_on=['Zip'])\n",
    "\n",
    "print(f\"\\n📊 Found {len(zip_only_result)} potential matches:\")\n",
    "zip_only_result[['Zip', 'Age', 'Sex', 'Occupation', 'Target']]"
   ]
  },
  {
   "cell_type": "markdown",
   "metadata": {},
   "source": [
    "## Exercise 3: Analyzing the Results\n",
    "\n",
    "**Question**: You found 2 potential matches. What additional information could help identify the real Brenn?\n",
    "\n",
    "**💡 Think about**:\n",
    "- What attributes differ between the matches?\n",
    "- What information might be publicly available?"
   ]
  },
  {
   "cell_type": "code",
   "execution_count": null,
   "metadata": {},
   "outputs": [],
   "source": [
    "# Let's analyze the differences between potential matches\n",
    "print(\"🔍 Analyzing differences between potential matches:\\n\")\n",
    "\n",
    "# Display key differentiating attributes\n",
    "comparison_cols = ['Sex', 'Marital Status', 'Occupation', 'Age', 'Race']\n",
    "print(\"Differentiating attributes:\")\n",
    "print(zip_only_result[comparison_cols])\n",
    "\n",
    "print(\"\\n💡 Potential distinguishing information:\")\n",
    "print(\"- Sex (Male/Female)\")\n",
    "print(\"- Marital Status\")\n",
    "print(\"- Occupation\")\n",
    "print(\"- Age (if approximately known)\")\n",
    "print(\"- Any of these could be found on social media profiles!\")"
   ]
  },
  {
   "cell_type": "markdown",
   "metadata": {},
   "source": [
    "---\n",
    "\n",
    "# 📊 Part 2: Aggregation Vulnerabilities\n",
    "\n",
    "Organizations often release aggregate statistics thinking they're safe. Let's see why this assumption is dangerous."
   ]
  },
  {
   "cell_type": "markdown",
   "metadata": {},
   "source": [
    "## Exercise 4: Small Group Problem\n",
    "\n",
    "**Task**: Determine how many people's data is completely exposed when we compute average age by ZIP code."
   ]
  },
  {
   "cell_type": "code",
   "execution_count": null,
   "metadata": {},
   "outputs": [],
   "source": [
    "# First, let's see the aggregation\n",
    "print(\"📊 Average age by ZIP code (sample):\")\n",
    "zip_age_avg = adult[['Zip', 'Age']].groupby('Zip', as_index=False).mean()\n",
    "print(zip_age_avg.head())\n",
    "print(\"\\n⚠️ Problem: What if a ZIP code has only one person?\")"
   ]
  },
  {
   "cell_type": "code",
   "execution_count": null,
   "metadata": {},
   "outputs": [],
   "source": [
    "# Count how many people are in each ZIP code\n",
    "adult[\"ones\"] = 1  # Add a column for counting\n",
    "counts = adult[['Zip', \"ones\"]].groupby('Zip', as_index=False).count()\n",
    "\n",
    "# Find ZIP codes with only one person\n",
    "single_person_zips = counts[counts[\"ones\"] == 1]\n",
    "\n",
    "print(f\"🚨 PRIVACY BREACH ALERT:\")\n",
    "print(f\"{len(single_person_zips)} ZIP codes contain only ONE person!\")\n",
    "print(f\"\\nFor these {len(single_person_zips)} people:\")\n",
    "print(\"- Their 'average' age is their EXACT age\")\n",
    "print(\"- Their data is completely exposed!\")\n",
    "\n",
    "# Show some examples\n",
    "print(\"\\n📋 Example vulnerable ZIP codes:\")\n",
    "vulnerable_zips = single_person_zips['Zip'].head(5).values\n",
    "for zip_code in vulnerable_zips:\n",
    "    person_age = adult[adult['Zip'] == zip_code]['Age'].values[0]\n",
    "    print(f\"  ZIP {zip_code}: 'Average' age = {person_age} (exact age!)\")\n",
    "\n",
    "# Clean up\n",
    "adult.drop('ones', axis=1, inplace=True)"
   ]
  },
  {
   "cell_type": "markdown",
   "metadata": {},
   "source": [
    "---\n",
    "\n",
    "# 🔄 Part 3: Differencing Attacks\n",
    "\n",
    "Even large aggregates can be attacked by comparing different query results."
   ]
  },
  {
   "cell_type": "markdown",
   "metadata": {},
   "source": [
    "## Exercise 5: Simple Differencing Attack\n",
    "\n",
    "**Task**: Find Brenn McNeely's hours worked per week using two aggregate queries.\n",
    "\n",
    "**Attack Formula**: \n",
    "```\n",
    "Individual's value = (Sum with individual) - (Sum without individual)\n",
    "```"
   ]
  },
  {
   "cell_type": "code",
   "execution_count": null,
   "metadata": {},
   "outputs": [],
   "source": [
    "print(\"🎯 Target: Brenn McNeely's working hours\")\n",
    "print(\"\\n📊 Executing differencing attack...\")\n",
    "\n",
    "# Query 1: Total hours for everyone\n",
    "query1 = adult['Hours per week'].sum()\n",
    "print(f\"Query 1 - Total hours (all employees): {query1:,}\")\n",
    "\n",
    "# Query 2: Total hours excluding Brenn\n",
    "query2 = adult[adult['Name'] != 'Brenn McNeely']['Hours per week'].sum()\n",
    "print(f\"Query 2 - Total hours (without Brenn): {query2:,}\")\n",
    "\n",
    "# Calculate the difference\n",
    "brenns_hours = query1 - query2\n",
    "print(f\"\\n🔓 Attack result: Brenn works {brenns_hours} hours per week\")\n",
    "\n",
    "# Verify our result\n",
    "actual = adult[adult['Name'] == 'Brenn McNeely']['Hours per week'].values[0]\n",
    "print(f\"✅ Verification: Actual value = {actual} hours\")"
   ]
  },
  {
   "cell_type": "markdown",
   "metadata": {},
   "source": [
    "## Exercise 6: Indirect Differencing Attack\n",
    "\n",
    "**Task**: Find Minni Mathevon's working hours using an indirect exclusion.\n",
    "\n",
    "**Hint**: Minni is the only person from \"Holand-Netherlands\" in the dataset."
   ]
  },
  {
   "cell_type": "code",
   "execution_count": null,
   "metadata": {},
   "outputs": [],
   "source": [
    "print(\"🎯 Target: Minni Mathevon's working hours\")\n",
    "print(\"🔍 Strategy: Use country information for indirect attack\")\n",
    "\n",
    "# First, verify the hint\n",
    "dutch_people = adult[adult['Country'] == 'Holand-Netherlands']\n",
    "print(f\"\\n✅ Confirmed: {len(dutch_people)} person(s) from Holand-Netherlands\")\n",
    "print(f\"   Name: {dutch_people['Name'].values[0]}\")"
   ]
  },
  {
   "cell_type": "code",
   "execution_count": null,
   "metadata": {},
   "outputs": [],
   "source": [
    "# Now perform the differencing attack\n",
    "print(\"\\n📊 Executing indirect differencing attack...\")\n",
    "\n",
    "# Query 1: Total hours for everyone\n",
    "query1 = adult['Hours per week'].sum()\n",
    "print(f\"Query 1 - Total hours (all countries): {query1:,}\")\n",
    "\n",
    "# Query 2: Total hours excluding Holand-Netherlands\n",
    "query2 = adult[adult['Country'] != 'Holand-Netherlands']['Hours per week'].sum()\n",
    "print(f\"Query 2 - Total hours (without Dutch): {query2:,}\")\n",
    "\n",
    "# Calculate the difference\n",
    "minnis_hours = query1 - query2\n",
    "print(f\"\\n🔓 Attack result: Minni works {minnis_hours} hours per week\")\n",
    "\n",
    "# Verify\n",
    "actual = adult[adult['Name'] == 'Minni Mathevon']['Hours per week'].values[0]\n",
    "print(f\"✅ Verification: Actual value = {actual} hours\")"
   ]
  },
  {
   "cell_type": "markdown",
   "metadata": {},
   "source": [
    "---\n",
    "\n",
    "# 🎓 Key Takeaways\n",
    "\n",
    "## What We've Learned\n",
    "\n",
    "1. **De-identification is Not Enough**\n",
    "   - Removing names and SSNs doesn't guarantee anonymity\n",
    "   - Quasi-identifiers (ZIP, DOB, etc.) can uniquely identify individuals\n",
    "\n",
    "2. **Linkage Attacks are Easy**\n",
    "   - Even partial information can narrow down possibilities\n",
    "   - Public data sources make auxiliary information readily available\n",
    "\n",
    "3. **Aggregation Has Limits**\n",
    "   - Small groups completely expose individual data\n",
    "   - \"Average\" of one person is their exact value\n",
    "\n",
    "4. **Differencing Attacks are Powerful**\n",
    "   - Multiple queries can be combined to extract individual data\n",
    "   - Works even on large aggregates\n",
    "   - Indirect attacks using unique characteristics are possible\n",
    "\n",
    "## Why This Matters\n",
    "\n",
    "These vulnerabilities show why we need **differential privacy** - a mathematical framework that provides provable privacy guarantees regardless of:\n",
    "- What auxiliary information attackers have\n",
    "- How many queries they make\n",
    "- What other datasets exist\n",
    "\n",
    "## Ethical Note\n",
    "\n",
    "⚠️ **Important**: These techniques are for educational purposes only. Using them on real data without authorization is unethical and potentially illegal."
   ]
  },
  {
   "cell_type": "markdown",
   "metadata": {},
   "source": [
    "---\n",
    "\n",
    "# 🚀 Additional Challenges\n",
    "\n",
    "Try these additional exercises to deepen your understanding:"
   ]
  },
  {
   "cell_type": "markdown",
   "metadata": {},
   "source": [
    "## Challenge 1: Find the Most Vulnerable Person\n",
    "\n",
    "Who in the dataset would be easiest to re-identify? Consider multiple quasi-identifiers."
   ]
  },
  {
   "cell_type": "code",
   "execution_count": null,
   "metadata": {},
   "outputs": [],
   "source": [
    "# Your code here\n",
    "# Hint: Look for people with unique combinations of attributes"
   ]
  },
  {
   "cell_type": "markdown",
   "metadata": {},
   "source": [
    "## Challenge 2: Group Size Analysis\n",
    "\n",
    "What's the minimum group size needed to provide reasonable privacy for age aggregation by occupation?"
   ]
  },
  {
   "cell_type": "code",
   "execution_count": null,
   "metadata": {},
   "outputs": [],
   "source": [
    "# Your code here\n",
    "# Hint: Check the distribution of group sizes for different occupations"
   ]
  },
  {
   "cell_type": "markdown",
   "metadata": {},
   "source": [
    "## Challenge 3: Multi-Attribute Linkage\n",
    "\n",
    "How many people can be uniquely identified using Age + Sex + Education level?"
   ]
  },
  {
   "cell_type": "code",
   "execution_count": null,
   "metadata": {},
   "outputs": [],
   "source": [
    "# Your code here\n",
    "# Hint: Group by these three attributes and count unique combinations"
   ]
  }
 ],
 "metadata": {
  "kernelspec": {
   "display_name": "Python 3",
   "language": "python",
   "name": "python3"
  },
  "language_info": {
   "codemirror_mode": {
    "name": "ipython",
    "version": 3
   },
   "file_extension": ".py",
   "mimetype": "text/x-python",
   "name": "python",
   "nbconvert_exporter": "python",
   "pygments_lexer": "ipython3",
   "version": "3.8.0"
  }
 },
 "nbformat": 4,
 "nbformat_minor": 4
}
